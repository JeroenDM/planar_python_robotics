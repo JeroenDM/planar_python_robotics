{
 "cells": [
  {
   "cell_type": "code",
   "execution_count": 1,
   "metadata": {
    "collapsed": true
   },
   "outputs": [],
   "source": [
    "import numpy as np\n",
    "import matplotlib.pyplot as plt\n",
    "from ppr.robot import Robot_2P3R,Robot_3R\n",
    "from ppr.path import TrajectoryPt, TolerancedNumber\n",
    "from ppr.geometry import Rectangle\n",
    "from ppr.path import cart_to_joint\n",
    "from ppr.path import get_shortest_path"
   ]
  },
  {
   "cell_type": "code",
   "execution_count": 2,
   "metadata": {
    "collapsed": true
   },
   "outputs": [],
   "source": [
    "def get_new_bounds(l, u, m, red=4):\n",
    "    \"\"\" create new interval smaller than the old one (l, u)\n",
    "    reduced in length by a factor red.\n",
    "    m is the value around wich the new interval should be centered\n",
    "    the new interval may not go outside the old bounds\n",
    "    \"\"\"\n",
    "    delta = abs(u - l) / red\n",
    "    l_new = max(m - delta, l)\n",
    "    u_new = min(m + delta, u)\n",
    "    return l_new, u_new\n",
    "\n",
    "def get_new_bounds_2(l, u, m, l_abs, u_abs, red=4):\n",
    "    \"\"\" create new interval smaller than the old one (l, u)\n",
    "    reduced in length by a factor red.\n",
    "    m is the value around wich the new interval should be centered\n",
    "    the new interval may not go outside the old bounds\n",
    "    \"\"\"\n",
    "    delta = abs(u - l) / red\n",
    "    l_new = max(m - delta, l_abs)\n",
    "    u_new = min(m + delta, u_abs)\n",
    "    return l_new, u_new\n",
    "\n",
    "def resample_trajectory_point(tp, pfk, *arg, **kwarg):\n",
    "    \"\"\" create a new trajectory point with smaller bounds,\n",
    "    but same sample number\n",
    "    use the value from the forward kinematics pfk as the center\n",
    "    of the new interval\n",
    "    \"\"\"\n",
    "    p_new = []\n",
    "    for i, val in enumerate(tp.p):\n",
    "        if tp.hasTolerance[i]:\n",
    "            # check for rounding errors on pfk\n",
    "            if pfk[i] < val.l:\n",
    "                pfk[i] = val.l\n",
    "            if pfk[i] > val.u:\n",
    "                pfk[i] = val.u\n",
    "            l, u = get_new_bounds(val.l, val.u, pfk[i], *arg, **kwarg)\n",
    "            val_new = TolerancedNumber(pfk[i], l, u, samples=val.s)\n",
    "        else:\n",
    "            val_new = val\n",
    "        p_new.append(val_new)\n",
    "    return TrajectoryPt(p_new)\n",
    "\n",
    "def resample_path(path, q_sol, robot, *arg, **kwarg):\n",
    "    poses = [robot.fk(q) for q in q_sol]\n",
    "    path_new = []\n",
    "    for i, tp in enumerate(path1):\n",
    "        path_new.append(resample_trajectory_point(tp, poses[i], *arg, **kwarg))\n",
    "    \n",
    "    return path_new\n",
    "\n",
    "def t2c(robot, path, scene, rsi=None):    \n",
    "    # get discrete version of trajectory points\n",
    "    discrete_path = []\n",
    "    for pt in path:\n",
    "        discrete_path.append(pt.discretise())\n",
    "    \n",
    "    # solve inverse kinematics for every samples traj point\n",
    "    # I could add some print statements to have info on unreachable points\n",
    "    joint_traj = []\n",
    "    for i, cart_vec in enumerate(discrete_path):\n",
    "        qi = []\n",
    "        \n",
    "        # set sampling information for redundant joints\n",
    "        if rsi == None:\n",
    "            q1 = TolerancedNumber(0.75, 0.5, 1.0, samples=robot.ik_samples[0])\n",
    "            q2 = TolerancedNumber(2.5, 2, 3, samples=robot.ik_samples[1])\n",
    "        else:\n",
    "            q1 = TolerancedNumber(rsi[i][0, 0], rsi[i][0, 1], rsi[i][0, 2],\n",
    "                                  samples=robot.ik_samples[0])\n",
    "            q2 = TolerancedNumber(rsi[i][1, 0], rsi[i][1, 1], rsi[i][1, 2],\n",
    "                                  samples=robot.ik_samples[1])\n",
    "        \n",
    "        \n",
    "        for cart_pt in cart_vec:\n",
    "            sol = robot.ik_redundant(cart_pt, [q1, q2])\n",
    "            if sol['success']:\n",
    "                for qsol in sol['q']:\n",
    "                    if not robot.check_collision(qsol, scene):\n",
    "                        qi.append(qsol)\n",
    "        joint_traj.append(np.array(qi))\n",
    "    return joint_traj\n",
    "\n",
    "def get_path_specific_joint_limits(qrp, joint_limits, rsi_prev):\n",
    "    rsi_new = []\n",
    "    for i, q in enumerate(qrp):\n",
    "        jl1, jl2 = joint_limits[0], joint_limits[1]\n",
    "        bnds1, bnds2 = rsi_prev[i][0, 1:], rsi_prev[i][1, 1:]\n",
    "        # TODO\n",
    "        # outer bound must still be normal joint limits !!\n",
    "        # but the range can be determined with the new limits\n",
    "        l1, u1 = get_new_bounds_2(bnds1[0], bnds1[1], q[0], jl1[0], jl1[1])\n",
    "        l2, u2 = get_new_bounds_2(bnds2[0], bnds2[1], q[1], jl2[0], jl2[1])\n",
    "        rsi_new.append(np.array([[q[0], l1, u1], [q[1], l2, u2]]))\n",
    "    return rsi_new"
   ]
  },
  {
   "cell_type": "code",
   "execution_count": 3,
   "metadata": {
    "collapsed": true
   },
   "outputs": [],
   "source": [
    "# ROBOT\n",
    "robot1 = Robot_2P3R([1, 1, 2, 1.2, 1])\n",
    "robot1.set_joint_limits([(0.5, 1.0), (2.0, 3.0)])\n",
    "robot1.ik_samples = [3, 5]\n",
    "\n",
    "# PATH\n",
    "dx    = TolerancedNumber(0.5, 0.3, 0.8, samples=4)\n",
    "dy    = np.linspace(2, 2.5, 5)\n",
    "angle = TolerancedNumber(0.0, -np.pi, 0, samples=10)\n",
    "path1 = [TrajectoryPt([dx, yi, angle]) for yi in dy]\n",
    "\n",
    "# COLLISION SCENE\n",
    "sc1 = [Rectangle(1, 1, 1, 1.5, 0),\n",
    "       Rectangle(3, 1, 1, 2.2, 0),\n",
    "       Rectangle(0, 3.2, 4, 0.5, 0),\n",
    "       Rectangle(0, 1, 0.2, 3.2, 0),\n",
    "       Rectangle(0.2, 1, 0.8, 0.5, 0)]"
   ]
  },
  {
   "cell_type": "code",
   "execution_count": 4,
   "metadata": {},
   "outputs": [
    {
     "name": "stdout",
     "output_type": "stream",
     "text": [
      "[19, 27, 23, 41, 71]\n"
     ]
    }
   ],
   "source": [
    "rsi1 = [np.array([[0.75, 0.5, 1.0], [2.5, 2, 3]])] * len(path1)\n",
    "\n",
    "path_js = t2c(robot1, path1, sc1, rsi=rsi1)\n",
    "print([len(qp) for qp in path_js])"
   ]
  },
  {
   "cell_type": "code",
   "execution_count": 5,
   "metadata": {},
   "outputs": [
    {
     "name": "stdout",
     "output_type": "stream",
     "text": [
      "converting type of Q\n",
      "[ 3  4 13 40 70]\n",
      "True\n",
      "0.7173054218292236\n"
     ]
    },
    {
     "data": {
      "image/png": "[encoded data removed]",
      "text/plain": [
       "<matplotlib.figure.Figure at 0x7f946ba16e48>"
      ]
     },
     "metadata": {},
     "output_type": "display_data"
    }
   ],
   "source": [
    "sol = get_shortest_path(path_js)\n",
    "print(sol['success'])\n",
    "print(sol['length'])\n",
    "\n",
    "fig2, ax2 = plt.subplots()\n",
    "ax2.axis('equal')\n",
    "#robot1.plot_path_kinematics(ax2, path_js[2])\n",
    "robot1.plot_path(ax2, sol['path'])\n",
    "for r in sc1: r.plot(ax2, 'g')\n",
    "for tp in path1: tp.plot(ax2)\n",
    "plt.show()"
   ]
  },
  {
   "cell_type": "code",
   "execution_count": 6,
   "metadata": {},
   "outputs": [
    {
     "name": "stdout",
     "output_type": "stream",
     "text": [
      "[[ 0.75   0.625  0.875]\n",
      " [ 3.     2.75   3.   ]]\n",
      "[[ 0.75   0.625  0.875]\n",
      " [ 3.     2.75   3.   ]]\n",
      "[[ 0.75   0.625  0.875]\n",
      " [ 3.     2.75   3.   ]]\n",
      "[[ 0.75   0.625  0.875]\n",
      " [ 3.     2.75   3.   ]]\n",
      "[[ 0.75   0.625  0.875]\n",
      " [ 3.     2.75   3.   ]]\n"
     ]
    }
   ],
   "source": [
    "rsi2 = get_path_specific_joint_limits(sol['path'], robot1.jl, rsi1)\n",
    "for v in rsi2: print(v)"
   ]
  },
  {
   "cell_type": "code",
   "execution_count": 7,
   "metadata": {},
   "outputs": [
    {
     "data": {
      "text/plain": [
       "[array([ 0.75      ,  3.        ,  1.94679105,  1.1677134 , -5.55796528]),\n",
       " array([ 0.75      ,  3.        ,  1.95244253,  1.05400395, -5.4499073 ]),\n",
       " array([ 0.75      ,  3.        ,  1.87018967,  1.0770514 , -5.39070225]),\n",
       " array([ 0.75      ,  3.        ,  1.79435527,  1.07941508, -5.31723118]),\n",
       " array([ 0.75      ,  3.        ,  1.72573841,  1.06117582, -5.23037529])]"
      ]
     },
     "execution_count": 7,
     "metadata": {},
     "output_type": "execute_result"
    }
   ],
   "source": [
    "sol['path']"
   ]
  },
  {
   "cell_type": "code",
   "execution_count": 8,
   "metadata": {},
   "outputs": [
    {
     "name": "stdout",
     "output_type": "stream",
     "text": [
      "[54, 62, 49, 72, 116]\n",
      "converting type of Q\n",
      "[ 6  7  8 50 79]\n",
      "True\n",
      "0.7173054218292236\n"
     ]
    },
    {
     "data": {
      "image/png": "[encoded data removed]",
      "text/plain": [
       "<matplotlib.figure.Figure at 0x7f946993d2b0>"
      ]
     },
     "metadata": {},
     "output_type": "display_data"
    }
   ],
   "source": [
    "Q2 = t2c(robot1, path1, sc1, rsi=rsi2)\n",
    "print([len(qp) for qp in Q2])\n",
    "\n",
    "sol2 = get_shortest_path(Q2)\n",
    "print(sol['success'])\n",
    "print(sol['length'])\n",
    "\n",
    "fig2, ax2 = plt.subplots()\n",
    "ax2.axis('equal')\n",
    "robot1.plot_path(ax2, sol2['path'])\n",
    "for r in sc1: r.plot(ax2, 'g')\n",
    "for tp in path1: tp.plot(ax2)\n",
    "plt.show()"
   ]
  },
  {
   "cell_type": "code",
   "execution_count": 9,
   "metadata": {},
   "outputs": [
    {
     "name": "stdout",
     "output_type": "stream",
     "text": [
      "[[ 0.625   0.5625  0.6875]\n",
      " [ 2.875   2.8125  2.9375]]\n",
      "[[ 0.75    0.6875  0.8125]\n",
      " [ 2.875   2.8125  2.9375]]\n",
      "[[ 0.875   0.8125  0.9375]\n",
      " [ 2.875   2.8125  2.9375]]\n",
      "[[ 0.875   0.8125  0.9375]\n",
      " [ 2.875   2.8125  2.9375]]\n",
      "[[ 0.875   0.8125  0.9375]\n",
      " [ 2.875   2.8125  2.9375]]\n"
     ]
    },
    {
     "data": {
      "text/plain": [
       "[array([ 0.625     ,  2.875     ,  1.88306212,  1.16296196, -5.48948526]),\n",
       " array([ 0.75      ,  2.875     ,  1.88306212,  1.16296196, -5.48948526]),\n",
       " array([ 0.875     ,  2.875     ,  1.88306212,  1.16296196, -5.48948526]),\n",
       " array([ 0.875     ,  2.875     ,  1.80205667,  1.17544138, -5.420959  ]),\n",
       " array([ 0.875     ,  2.875     ,  1.72730935,  1.1682812 , -5.33905172])]"
      ]
     },
     "execution_count": 9,
     "metadata": {},
     "output_type": "execute_result"
    }
   ],
   "source": [
    "rsi3 = get_path_specific_joint_limits(sol2['path'], robot1.jl, rsi2)\n",
    "for v in rsi3: print(v)\n",
    "sol2['path']"
   ]
  },
  {
   "cell_type": "code",
   "execution_count": 10,
   "metadata": {},
   "outputs": [
    {
     "name": "stdout",
     "output_type": "stream",
     "text": [
      "[28, 66, 60, 75, 120]\n",
      "converting type of Q\n",
      "[ 7 14 14 59 89]\n",
      "True\n",
      "0.7173054218292236\n"
     ]
    },
    {
     "data": {
      "image/png": "[encoded data removed]",
      "text/plain": [
       "<matplotlib.figure.Figure at 0x7f946ba1de48>"
      ]
     },
     "metadata": {},
     "output_type": "display_data"
    }
   ],
   "source": [
    "Q3 = t2c(robot1, path1, sc1, rsi=rsi3)\n",
    "print([len(qp) for qp in Q3])\n",
    "\n",
    "sol3 = get_shortest_path(Q3)\n",
    "print(sol['success'])\n",
    "print(sol['length'])\n",
    "\n",
    "fig2, ax2 = plt.subplots()\n",
    "ax2.axis('equal')\n",
    "robot1.plot_path(ax2, sol3['path'])\n",
    "for r in sc1: r.plot(ax2, 'g')\n",
    "for tp in path1: tp.plot(ax2)\n",
    "plt.show()"
   ]
  },
  {
   "cell_type": "markdown",
   "metadata": {},
   "source": [
    "# other stuff"
   ]
  },
  {
   "cell_type": "code",
   "execution_count": 12,
   "metadata": {
    "collapsed": true
   },
   "outputs": [],
   "source": [
    "path2 = resample_path(path1, sol['path'], robot1, red=5)\n",
    "robot1.set_joint_limits([(0.65, 0.85), (2.9, 3.0)])"
   ]
  },
  {
   "cell_type": "code",
   "execution_count": 14,
   "metadata": {},
   "outputs": [],
   "source": [
    "fig1, ax1 = plt.subplots()\n",
    "ax1.axis('equal')\n",
    "for tp in path2: tp.plot(ax1)\n",
    "plt.show()"
   ]
  },
  {
   "cell_type": "code",
   "execution_count": 15,
   "metadata": {},
   "outputs": [
    {
     "name": "stdout",
     "output_type": "stream",
     "text": [
      "[19, 27, 23, 41, 71]\n",
      "converting type of Q\n",
      "[ 26  96 121 140  68]\n",
      "True\n",
      "0.5691347122192383\n"
     ]
    }
   ],
   "source": [
    "path_js_new = t2c(robot1, path2, sc1)\n",
    "print([len(qp) for qp in path_js])\n",
    "\n",
    "sol_new = get_shortest_path(path_js_new)\n",
    "print(sol_new['success'])\n",
    "print(sol_new['length'])"
   ]
  },
  {
   "cell_type": "code",
   "execution_count": 16,
   "metadata": {},
   "outputs": [
    {
     "data": {
      "image/png": "[encoded data removed]",
      "text/plain": [
       "<matplotlib.figure.Figure at 0x7f6cf6655a90>"
      ]
     },
     "metadata": {},
     "output_type": "display_data"
    },
    {
     "data": {
      "image/png": "[encoded data removed]",
      "text/plain": [
       "<matplotlib.figure.Figure at 0x7f6cf65d2128>"
      ]
     },
     "metadata": {},
     "output_type": "display_data"
    },
    {
     "data": {
      "text/plain": [
       "[array([ 0.64999998,  2.95000005,  1.93379259,  1.06145811, -5.36889839]),\n",
       " array([ 0.75      ,  2.95000005,  1.91711533,  1.06682384, -5.35758686]),\n",
       " array([ 0.75      ,  2.95000005,  1.85599756,  1.05399001, -5.28363562]),\n",
       " array([ 0.75      ,  2.95000005,  1.78270817,  1.05034828, -5.20670414]),\n",
       " array([ 0.85000002,  2.95000005,  1.76893413,  1.04711497, -5.18969679])]"
      ]
     },
     "execution_count": 16,
     "metadata": {},
     "output_type": "execute_result"
    }
   ],
   "source": [
    "fig3, ax3 = plt.subplots()\n",
    "ax3.axis('equal')\n",
    "robot1.plot_path(ax3, sol_new['path'])\n",
    "for r in sc1: r.plot(ax3, 'g')\n",
    "for tp in path2: tp.plot(ax3)\n",
    "plt.show()\n",
    "\n",
    "sol_new['path']"
   ]
  },
  {
   "cell_type": "code",
   "execution_count": 17,
   "metadata": {},
   "outputs": [
    {
     "name": "stdout",
     "output_type": "stream",
     "text": [
      "converting type of Q\n",
      "[ 6  7  8 53 81]\n",
      "converting type of Q\n",
      "[160 101 335 431  48]\n",
      "converting type of Q\n",
      "[147 233 319  45  45]\n",
      "converting type of Q\n",
      "[169 263 340 323 230]\n",
      "converting type of Q\n",
      "[158 287 280 231 106]\n",
      "converting type of Q\n",
      "[17 32 32 32 32]\n",
      "converting type of Q\n",
      "[29 47 62 77 77]\n",
      "converting type of Q\n",
      "[47 71 91 94 96]\n",
      "converting type of Q\n",
      "[27 35 35 35 35]\n",
      "converting type of Q\n",
      "[179 122  71  88 310]\n",
      "[0.6105889081954956, 0.362338125705719, 0.30937647819519043, 0.279252290725708, 0.2792518138885498, 0.2792513370513916, 0.2792508602142334, 0.27925026416778564, 0.27924978733062744, 0.27924925088882446]\n"
     ]
    }
   ],
   "source": [
    "current_path = path1\n",
    "costs = []\n",
    "for i in range(10):\n",
    "    Q = cart_to_joint(robot1, current_path, check_collision=True, scene=sc1)\n",
    "    sol = get_shortest_path(Q)\n",
    "    if sol['success']:\n",
    "        current_path = resample_path(current_path, sol['path'], robot1, red=10)\n",
    "        costs.append(sol['length'])\n",
    "    else:\n",
    "        print(\"No solution in graph found\")\n",
    "print(costs)"
   ]
  },
  {
   "cell_type": "code",
   "execution_count": 18,
   "metadata": {},
   "outputs": [
    {
     "data": {
      "image/png": "[encoded data removed]",
      "text/plain": [
       "<matplotlib.figure.Figure at 0x7f6cf6645860>"
      ]
     },
     "metadata": {},
     "output_type": "display_data"
    }
   ],
   "source": [
    "plt.plot(costs, 'o-')\n",
    "plt.show()"
   ]
  },
  {
   "cell_type": "code",
   "execution_count": null,
   "metadata": {
    "collapsed": true
   },
   "outputs": [],
   "source": []
  }
 ],
 "metadata": {
  "kernelspec": {
   "display_name": "Python 3",
   "language": "python",
   "name": "python3"
  },
  "language_info": {
   "codemirror_mode": {
    "name": "ipython",
    "version": 3
   },
   "file_extension": ".py",
   "mimetype": "text/x-python",
   "name": "python",
   "nbconvert_exporter": "python",
   "pygments_lexer": "ipython3",
   "version": "3.6.3"
  }
 },
 "nbformat": 4,
 "nbformat_minor": 2
}
