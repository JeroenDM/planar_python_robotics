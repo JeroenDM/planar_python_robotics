{
 "cells": [
  {
   "cell_type": "code",
   "execution_count": 16,
   "metadata": {
    "collapsed": true
   },
   "outputs": [],
   "source": [
    "import numpy as np\n",
    "import matplotlib.pyplot as plt\n",
    "from ppr.robot import Robot_2P3R,Robot_3R\n",
    "from ppr.path import TrajectoryPt, TolerancedNumber\n",
    "from ppr.geometry import Rectangle\n",
    "from ppr.path import cart_to_joint\n",
    "from ppr.path import get_shortest_path"
   ]
  },
  {
   "cell_type": "code",
   "execution_count": 21,
   "metadata": {
    "collapsed": true
   },
   "outputs": [],
   "source": [
    "# ROBOT\n",
    "robot1 = Robot_2P3R([1, 1, 2, 1.2, 1])\n",
    "robot1.set_joint_limits([(0.5, 1.0), (2.0, 3.0)])\n",
    "robot1.ik_samples = [3, 5]\n",
    "\n",
    "# PATH\n",
    "dx    = TolerancedNumber(0.5, 0.3, 0.8, samples=4)\n",
    "dy    = np.linspace(2, 2.5, 5)\n",
    "angle = TolerancedNumber(0.0, -np.pi, 0, samples=10)\n",
    "path1 = [TrajectoryPt([dx, yi, angle]) for yi in dy]\n",
    "\n",
    "# COLLISION SCENE\n",
    "sc1 = [Rectangle(1, 1, 1, 1.5, 0),\n",
    "       Rectangle(3, 1, 1, 2.2, 0),\n",
    "       Rectangle(0, 3.2, 4, 0.5, 0),\n",
    "       Rectangle(0, 1, 0.2, 3.2, 0),\n",
    "       Rectangle(0.2, 1, 0.8, 0.5, 0)]"
   ]
  },
  {
   "cell_type": "code",
   "execution_count": 22,
   "metadata": {},
   "outputs": [
    {
     "name": "stdout",
     "output_type": "stream",
     "text": [
      "[19, 27, 23, 41, 71]\n"
     ]
    }
   ],
   "source": [
    "path_js = cart_to_joint(robot1, path1, check_collision=True, scene=sc1)\n",
    "print([len(qp) for qp in path_js])"
   ]
  },
  {
   "cell_type": "code",
   "execution_count": 23,
   "metadata": {},
   "outputs": [
    {
     "name": "stdout",
     "output_type": "stream",
     "text": [
      "converting type of Q\n",
      "[ 3  4 13 40 70]\n",
      "True\n",
      "0.7173054218292236\n"
     ]
    },
    {
     "data": {
      "image/png": "[encoded data removed]",
      "text/plain": [
       "<matplotlib.figure.Figure at 0x7fa63c6a9d68>"
      ]
     },
     "metadata": {},
     "output_type": "display_data"
    }
   ],
   "source": [
    "sol = get_shortest_path(path_js)\n",
    "print(sol['success'])\n",
    "print(sol['length'])\n",
    "\n",
    "fig2, ax2 = plt.subplots()\n",
    "ax2.axis('equal')\n",
    "#robot1.plot_path_kinematics(ax2, path_js[2])\n",
    "robot1.plot_path(ax2, sol['path'])\n",
    "for r in sc1: r.plot(ax2, 'g')\n",
    "for tp in path1: tp.plot(ax2)\n",
    "plt.show()"
   ]
  },
  {
   "cell_type": "code",
   "execution_count": 30,
   "metadata": {},
   "outputs": [
    {
     "data": {
      "text/plain": [
       "[array([ 0.75      ,  3.        ,  1.94679105,  1.1677134 , -5.55796528]),\n",
       " array([ 0.75      ,  3.        ,  1.95244253,  1.05400395, -5.4499073 ]),\n",
       " array([ 0.75      ,  3.        ,  1.87018967,  1.0770514 , -5.39070225]),\n",
       " array([ 0.75      ,  3.        ,  1.79435527,  1.07941508, -5.31723118]),\n",
       " array([ 0.75      ,  3.        ,  1.72573841,  1.06117582, -5.23037529])]"
      ]
     },
     "execution_count": 30,
     "metadata": {},
     "output_type": "execute_result"
    }
   ],
   "source": [
    "sol['path']"
   ]
  },
  {
   "cell_type": "code",
   "execution_count": 25,
   "metadata": {
    "collapsed": true
   },
   "outputs": [],
   "source": [
    "def get_new_bounds(l, u, m, red=4):\n",
    "    \"\"\" create new interval smaller than the old one (l, u)\n",
    "    reduced in length by a factor red.\n",
    "    m is the value around wich the new interval should be centered\n",
    "    the new interval may not go outside the old bounds\n",
    "    \"\"\"\n",
    "    delta = abs(u - l) / red\n",
    "    l_new = max(m - delta, l)\n",
    "    u_new = min(m + delta, u)\n",
    "    return l_new, u_new\n",
    "\n",
    "def resample_trajectory_point(tp, pfk, *arg, **kwarg):\n",
    "    \"\"\" create a new trajectory point with smaller bounds,\n",
    "    but same sample number\n",
    "    use the value from the forward kinematics pfk as the center\n",
    "    of the new interval\n",
    "    \"\"\"\n",
    "    p_new = []\n",
    "    for i, val in enumerate(tp.p):\n",
    "        if tp.hasTolerance[i]:\n",
    "            # check for rounding errors on pfk\n",
    "            if pfk[i] < val.l:\n",
    "                pfk[i] = val.l\n",
    "            if pfk[i] > val.u:\n",
    "                pfk[i] = val.u\n",
    "            l, u = get_new_bounds(val.l, val.u, pfk[i], *arg, **kwarg)\n",
    "            val_new = TolerancedNumber(pfk[i], l, u, samples=val.s)\n",
    "        else:\n",
    "            val_new = val\n",
    "        p_new.append(val_new)\n",
    "    return TrajectoryPt(p_new)\n",
    "\n",
    "def resample_path(path, q_sol, robot, *arg, **kwarg):\n",
    "    poses = [robot.fk(q) for q in q_sol]\n",
    "    path_new = []\n",
    "    for i, tp in enumerate(path1):\n",
    "        path_new.append(resample_trajectory_point(tp, poses[i], *arg, **kwarg))\n",
    "    \n",
    "    return path_new"
   ]
  },
  {
   "cell_type": "code",
   "execution_count": 31,
   "metadata": {
    "collapsed": true
   },
   "outputs": [],
   "source": [
    "path2 = resample_path(path1, sol['path'], robot1, red=5)\n",
    "robot1.set_joint_limits([(0.65, 0.85), (2.9, 3.0)])"
   ]
  },
  {
   "cell_type": "code",
   "execution_count": 32,
   "metadata": {},
   "outputs": [
    {
     "data": {
      "image/png": "[encoded data removed]",
      "text/plain": [
       "<matplotlib.figure.Figure at 0x7fa6400a9c18>"
      ]
     },
     "metadata": {},
     "output_type": "display_data"
    }
   ],
   "source": [
    "fig1, ax1 = plt.subplots()\n",
    "ax1.axis('equal')\n",
    "for tp in path2: tp.plot(ax1)\n",
    "plt.show()"
   ]
  },
  {
   "cell_type": "code",
   "execution_count": 33,
   "metadata": {},
   "outputs": [
    {
     "name": "stdout",
     "output_type": "stream",
     "text": [
      "[19, 27, 23, 41, 71]\n",
      "converting type of Q\n",
      "[ 26  96 121 140  68]\n",
      "True\n",
      "0.5691347122192383\n"
     ]
    }
   ],
   "source": [
    "path_js_new = cart_to_joint(robot1, path2, check_collision=True, scene=sc1)\n",
    "print([len(qp) for qp in path_js])\n",
    "\n",
    "sol_new = get_shortest_path(path_js_new)\n",
    "print(sol_new['success'])\n",
    "print(sol_new['length'])"
   ]
  },
  {
   "cell_type": "code",
   "execution_count": 36,
   "metadata": {},
   "outputs": [
    {
     "data": {
      "image/png": "[encoded data removed]",
      "text/plain": [
       "<matplotlib.figure.Figure at 0x7fa63c3cc6a0>"
      ]
     },
     "metadata": {},
     "output_type": "display_data"
    },
    {
     "data": {
      "text/plain": [
       "[array([ 0.64999998,  2.95000005,  1.93379259,  1.06145811, -5.36889839]),\n",
       " array([ 0.75      ,  2.95000005,  1.91711533,  1.06682384, -5.35758686]),\n",
       " array([ 0.75      ,  2.95000005,  1.85599756,  1.05399001, -5.28363562]),\n",
       " array([ 0.75      ,  2.95000005,  1.78270817,  1.05034828, -5.20670414]),\n",
       " array([ 0.85000002,  2.95000005,  1.76893413,  1.04711497, -5.18969679])]"
      ]
     },
     "execution_count": 36,
     "metadata": {},
     "output_type": "execute_result"
    }
   ],
   "source": [
    "fig3, ax3 = plt.subplots()\n",
    "ax3.axis('equal')\n",
    "robot1.plot_path(ax3, sol_new['path'])\n",
    "for r in sc1: r.plot(ax3, 'g')\n",
    "for tp in path2: tp.plot(ax3)\n",
    "plt.show()\n",
    "\n",
    "sol_new['path']"
   ]
  },
  {
   "cell_type": "code",
   "execution_count": 10,
   "metadata": {},
   "outputs": [
    {
     "name": "stdout",
     "output_type": "stream",
     "text": [
      "converting type of Q\n",
      "[24 16 12 10  8  8  4  4  4  4]\n",
      "converting type of Q\n",
      "[84  2 42 80  0 14 24 22 20 20]\n",
      "converting type of Q\n",
      "[68 48 48 48  8  8  6  4  2  2]\n",
      "converting type of Q\n",
      "[90 90 90 90 90 86 74 66 58 52]\n",
      "converting type of Q\n",
      "[90 90 90 88 90 84 70 64 58 52]\n",
      "converting type of Q\n",
      "[28 28 28 28 28 26 22 20 16 14]\n",
      "converting type of Q\n",
      "[90 90 90 84 90 80 66 60 56 52]\n",
      "converting type of Q\n",
      "[90 90 90 78 88 76 64 60 54 52]\n",
      "converting type of Q\n",
      "[28 28 28 24 28 24 20 16 16 14]\n",
      "converting type of Q\n",
      "[90 70 70 60 68 58 48 44 40 38]\n",
      "[1.0956737995147705, 0.9967334270477295, 0.9503164291381836, 0.9498753547668457, 0.9497448205947876, 0.9496617317199707, 0.9495822191238403, 0.9495096802711487, 0.9459354877471924, 0.9458138942718506]\n"
     ]
    }
   ],
   "source": [
    "current_path = path1\n",
    "costs = []\n",
    "for i in range(10):\n",
    "    Q = cart_to_joint(robot1, current_path, check_collision=True, scene=sc1)\n",
    "    sol = get_shortest_path(Q)\n",
    "    if sol['success']:\n",
    "        current_path = resample_path(current_path, sol['path'], robot1, red=10)\n",
    "        costs.append(sol['length'])\n",
    "    else:\n",
    "        print(\"No solution in graph found\")\n",
    "print(costs)"
   ]
  },
  {
   "cell_type": "code",
   "execution_count": 12,
   "metadata": {},
   "outputs": [
    {
     "data": {
      "image/png": "[encoded data removed]",
      "text/plain": [
       "<matplotlib.figure.Figure at 0x7faf1a2442e8>"
      ]
     },
     "metadata": {},
     "output_type": "display_data"
    }
   ],
   "source": [
    "plt.plot(costs, 'o-')\n",
    "plt.show()"
   ]
  },
  {
   "cell_type": "code",
   "execution_count": null,
   "metadata": {
    "collapsed": true
   },
   "outputs": [],
   "source": []
  }
 ],
 "metadata": {
  "kernelspec": {
   "display_name": "Python 3",
   "language": "python",
   "name": "python3"
  },
  "language_info": {
   "codemirror_mode": {
    "name": "ipython",
    "version": 3
   },
   "file_extension": ".py",
   "mimetype": "text/x-python",
   "name": "python",
   "nbconvert_exporter": "python",
   "pygments_lexer": "ipython3",
   "version": "3.6.3"
  }
 },
 "nbformat": 4,
 "nbformat_minor": 2
}
