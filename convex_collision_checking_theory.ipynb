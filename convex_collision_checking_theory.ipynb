{
 "cells": [
  {
   "cell_type": "code",
   "execution_count": 2,
   "metadata": {
    "collapsed": true
   },
   "outputs": [],
   "source": [
    "import numpy as np\n",
    "import matplotlib.pyplot as plt\n",
    "from scipy.optimize import fmin_slsqp"
   ]
  },
  {
   "cell_type": "code",
   "execution_count": 3,
   "metadata": {
    "collapsed": true
   },
   "outputs": [],
   "source": [
    "from ppr.geometry import Rectangle"
   ]
  },
  {
   "cell_type": "code",
   "execution_count": 33,
   "metadata": {
    "collapsed": true
   },
   "outputs": [],
   "source": [
    "rec1 = Rectangle(1, 2, 3, 2, 0)\n",
    "rec2 = Rectangle(-1, 5, 2, 4, np.pi/4)"
   ]
  },
  {
   "cell_type": "code",
   "execution_count": 34,
   "metadata": {},
   "outputs": [
    {
     "data": {
      "image/png": "[encoded data removed]",
      "text/plain": [
       "<matplotlib.figure.Figure at 0x7f8aee93d8d0>"
      ]
     },
     "metadata": {},
     "output_type": "display_data"
    }
   ],
   "source": [
    "fig, ax = plt.subplots()\n",
    "rec1.plot(ax)\n",
    "rec2.plot(ax)\n",
    "ax.axis('equal')\n",
    "plt.show()"
   ]
  },
  {
   "cell_type": "markdown",
   "metadata": {},
   "source": [
    "# General matrix formulation for polyhedra"
   ]
  },
  {
   "cell_type": "code",
   "execution_count": 35,
   "metadata": {
    "collapsed": true
   },
   "outputs": [],
   "source": [
    "# euclidean distance between two points\n",
    "def dist(x, y):\n",
    "    return np.sqrt(np.sum((x-y)**2))\n",
    "\n",
    "# point in polyhedra if Ax <= b\n",
    "def pol_eq(x, A, b):\n",
    "    return A.dot(x) - b\n",
    "\n",
    "def is_in_pol(x, A, b):\n",
    "    return np.all(pol_eq(x, A, b) < 0)"
   ]
  },
  {
   "cell_type": "code",
   "execution_count": 36,
   "metadata": {
    "collapsed": true
   },
   "outputs": [],
   "source": [
    "# general representation of rectangles\n",
    "A1, b1 = rec1.get_matrix_form()\n",
    "A2, b2 = rec2.get_matrix_form()"
   ]
  },
  {
   "cell_type": "code",
   "execution_count": 38,
   "metadata": {},
   "outputs": [
    {
     "data": {
      "image/png": "[encoded data removed]",
      "text/plain": [
       "<matplotlib.figure.Figure at 0x7f8aec634a90>"
      ]
     },
     "metadata": {},
     "output_type": "display_data"
    }
   ],
   "source": [
    "# check some points\n",
    "some_points = np.array([[0, 0], [2, 3], [-2, 7], [6, 7]])\n",
    "\n",
    "fig, ax = plt.subplots()\n",
    "rec1.plot(ax)\n",
    "rec2.plot(ax)\n",
    "ax.axis('equal')\n",
    "for p in some_points:\n",
    "    if is_in_pol(p, A1, b1) or is_in_pol(p, A2, b2):\n",
    "        ax.plot(p[0], p[1], 'g*')\n",
    "    else:\n",
    "        ax.plot(p[0], p[1], 'r*')\n",
    "plt.show()"
   ]
  },
  {
   "cell_type": "markdown",
   "metadata": {},
   "source": [
    "# Minumum distance problem formulation\n",
    "\n",
    "Arrange two point x and y in one vector var = [x, y]"
   ]
  },
  {
   "cell_type": "code",
   "execution_count": 39,
   "metadata": {},
   "outputs": [
    {
     "name": "stdout",
     "output_type": "stream",
     "text": [
      "Optimization terminated successfully.    (Exit mode 0)\n",
      "            Current function value: 2.121320343529712\n",
      "            Iterations: 7\n",
      "            Function evaluations: 42\n",
      "            Gradient evaluations: 7\n"
     ]
    }
   ],
   "source": [
    "def obj(var):\n",
    "    return dist(var[0:2], var[2:4])\n",
    "\n",
    "def inequality_constraints(var):\n",
    "    ie1 = pol_eq(var[0:2], A1, b1)\n",
    "    ie2 = pol_eq(var[2:4], A2, b2)\n",
    "    \n",
    "    # fmin_slsqp wants g(x) >= 0 constraints\n",
    "    return -np.hstack((ie1, ie2))\n",
    "\n",
    "var_init = np.random.rand(4)\n",
    "\n",
    "sol = fmin_slsqp(obj, var_init, f_ieqcons=inequality_constraints)"
   ]
  },
  {
   "cell_type": "code",
   "execution_count": 40,
   "metadata": {},
   "outputs": [
    {
     "data": {
      "image/png": "[encoded data removed]",
      "text/plain": [
       "<matplotlib.figure.Figure at 0x7f8aec6226a0>"
      ]
     },
     "metadata": {},
     "output_type": "display_data"
    }
   ],
   "source": [
    "fig, ax = plt.subplots()\n",
    "rec1.plot(ax)\n",
    "rec2.plot(ax)\n",
    "ax.plot(var_init[[0, 2]], var_init[[1, 3]], 'b-o')\n",
    "ax.plot(sol[[0, 2]], sol[[1, 3]], 'g-*')\n",
    "ax.axis('equal')\n",
    "plt.show()"
   ]
  },
  {
   "cell_type": "markdown",
   "metadata": {
    "collapsed": true
   },
   "source": [
    "# Dual fromulation"
   ]
  },
  {
   "cell_type": "code",
   "execution_count": 41,
   "metadata": {},
   "outputs": [
    {
     "name": "stdout",
     "output_type": "stream",
     "text": [
      "Optimization terminated successfully.    (Exit mode 0)\n",
      "            Current function value: -2.1213203447602362\n",
      "            Iterations: 5\n",
      "            Function evaluations: 50\n",
      "            Gradient evaluations: 5\n"
     ]
    }
   ],
   "source": [
    "def dual_obj(z):\n",
    "    la = z[0:4]\n",
    "    mu = z[4:8]\n",
    "    return b1.dot(la) + b2.dot(mu)\n",
    "\n",
    "def dual_eq_con(z):\n",
    "    la = z[0:4]\n",
    "    mu = z[4:8]\n",
    "    return A1.T.dot(la) + A2.T.dot(mu)\n",
    "\n",
    "def dual_ieq_con(z):\n",
    "    la = z[0:4]\n",
    "    return -np.sum((A1.T.dot(la))**2) + 1\n",
    "\n",
    "bounds = [(0, None) for i in range(8)]\n",
    "\n",
    "z_init = np.random.rand(8)\n",
    "sol = fmin_slsqp(dual_obj, z_init, f_eqcons=dual_eq_con, f_ieqcons=dual_ieq_con, bounds=bounds)"
   ]
  },
  {
   "cell_type": "code",
   "execution_count": 42,
   "metadata": {},
   "outputs": [
    {
     "name": "stdout",
     "output_type": "stream",
     "text": [
      "[ 0.70710678 -0.70710678] -2.12132034476 -4.24264068952\n"
     ]
    }
   ],
   "source": [
    "la = sol[0:4]\n",
    "mu = sol[4:8]\n",
    "z = A2.T.dot(mu)\n",
    "c1 = -b1.dot(la)\n",
    "c2 = b2.dot(mu)\n",
    "print(z, c1, c2)"
   ]
  },
  {
   "cell_type": "markdown",
   "metadata": {},
   "source": [
    "## separating hyperplane"
   ]
  },
  {
   "cell_type": "code",
   "execution_count": 45,
   "metadata": {
    "collapsed": true
   },
   "outputs": [],
   "source": [
    "# paramter form of hyperplane equations (==> straight line in 2D)\n",
    "N = 30\n",
    "t = np.linspace(-5, 5, N)\n",
    "if abs(z[1]) > 0:\n",
    "    plane1 = [t,  (c1 - z[0] * t) / z[1]]\n",
    "    plane2 = [t,  (c2 - z[0] * t) / z[1]]\n",
    "else:\n",
    "    print(\"vertical lines\")"
   ]
  },
  {
   "cell_type": "code",
   "execution_count": 49,
   "metadata": {},
   "outputs": [
    {
     "data": {
      "image/png": "[encoded data removed]",
      "text/plain": [
       "<matplotlib.figure.Figure at 0x7f8aec3a6550>"
      ]
     },
     "metadata": {},
     "output_type": "display_data"
    }
   ],
   "source": [
    "fig, ax = plt.subplots()\n",
    "rec1.plot(ax)\n",
    "rec2.plot(ax)\n",
    "ax.fill_between(plane1[0], plane1[1], plane2[1], alpha=0.3)\n",
    "ax.axis('equal')\n",
    "plt.show()"
   ]
  },
  {
   "cell_type": "code",
   "execution_count": null,
   "metadata": {
    "collapsed": true
   },
   "outputs": [],
   "source": []
  }
 ],
 "metadata": {
  "kernelspec": {
   "display_name": "Python 3",
   "language": "python",
   "name": "python3"
  },
  "language_info": {
   "codemirror_mode": {
    "name": "ipython",
    "version": 3
   },
   "file_extension": ".py",
   "mimetype": "text/x-python",
   "name": "python",
   "nbconvert_exporter": "python",
   "pygments_lexer": "ipython3",
   "version": "3.6.3"
  }
 },
 "nbformat": 4,
 "nbformat_minor": 2
}
