{
 "cells": [
  {
   "cell_type": "code",
   "execution_count": 18,
   "metadata": {
    "collapsed": true
   },
   "outputs": [],
   "source": [
    "import numpy as np\n",
    "import matplotlib.pyplot as plt\n",
    "from ppr.path import cart_to_joint, cart_to_joint_parallel, discretise\n",
    "from ppr.ga import get_shortest_path_ga\n",
    "import time\n",
    "from multiprocessing import Pool"
   ]
  },
  {
   "cell_type": "markdown",
   "metadata": {},
   "source": [
    "# Case 1"
   ]
  },
  {
   "cell_type": "code",
   "execution_count": 19,
   "metadata": {
    "collapsed": true
   },
   "outputs": [],
   "source": [
    "from planning_cases import robot1, path1, scene1"
   ]
  },
  {
   "cell_type": "code",
   "execution_count": 20,
   "metadata": {},
   "outputs": [
    {
     "name": "stdout",
     "output_type": "stream",
     "text": [
      "Standard function took 0.54s\n"
     ]
    }
   ],
   "source": [
    "start = time.time()\n",
    "path_js1 = cart_to_joint(robot1, path1, check_collision=True, scene=scene1)\n",
    "end = time.time()\n",
    "print(\"Standard function took {:.2f}s\".format(end - start))"
   ]
  },
  {
   "cell_type": "code",
   "execution_count": 15,
   "metadata": {},
   "outputs": [
    {
     "name": "stdout",
     "output_type": "stream",
     "text": [
      "Parallel took 0.32s\n"
     ]
    }
   ],
   "source": [
    "def check_pose(pose):\n",
    "    res = []\n",
    "    sol = robot1.ik(pose)\n",
    "    for qsol in sol['q']:\n",
    "        if not robot1.check_collision(qsol, scene1):\n",
    "            res.append(qsol)\n",
    "    return res\n",
    "\n",
    "def check_traj_pt(poses):\n",
    "    res = []\n",
    "    for pi in poses:\n",
    "        res.append(check_pose(pi))\n",
    "    return res\n",
    "\n",
    "start = time.time()\n",
    "tps = [discretise(tp) for tp in path1]\n",
    "with Pool(processes=4) as pool:\n",
    "    result = pool.map(check_traj_pt, tps)\n",
    "end = time.time()\n",
    "print(\"Parallel took {:.2f}s\".format(end - start))"
   ]
  },
  {
   "cell_type": "code",
   "execution_count": 21,
   "metadata": {},
   "outputs": [
    {
     "name": "stdout",
     "output_type": "stream",
     "text": [
      "True\n"
     ]
    }
   ],
   "source": [
    "sol1 = get_shortest_path_ga(path_js1, T_run=1)\n",
    "print(sol1['success'])"
   ]
  },
  {
   "cell_type": "code",
   "execution_count": 22,
   "metadata": {
    "scrolled": true
   },
   "outputs": [
    {
     "data": {
      "image/png": "[encoded data removed]",
      "text/plain": [
       "<matplotlib.figure.Figure at 0x7fc0847c9748>"
      ]
     },
     "metadata": {},
     "output_type": "display_data"
    }
   ],
   "source": [
    "fig1, ax1 = plt.subplots()\n",
    "plt.title(\"The Robot\")\n",
    "ax1.axis('equal')\n",
    "robot1.plot_path(ax1, sol1['path'])\n",
    "for tp in path1: tp.plot(ax1)\n",
    "for r in scene1: r.plot(ax1, 'g')\n",
    "plt.show()"
   ]
  },
  {
   "cell_type": "markdown",
   "metadata": {},
   "source": [
    "## different ga settings, same problem and discretisation"
   ]
  },
  {
   "cell_type": "code",
   "execution_count": 67,
   "metadata": {},
   "outputs": [
    {
     "name": "stdout",
     "output_type": "stream",
     "text": [
      "[74 74 69 67 60 59]\n",
      "Dijkstra took 0.43s\n"
     ]
    }
   ],
   "source": [
    "# dijkstra global solution benchmark\n",
    "from ppr.path import get_shortest_path\n",
    "\n",
    "start = time.time()\n",
    "sol_dk = get_shortest_path(path_js1)\n",
    "end = time.time()\n",
    "print(\"Dijkstra took {:.2f}s\".format(end - start))"
   ]
  },
  {
   "cell_type": "code",
   "execution_count": 69,
   "metadata": {},
   "outputs": [
    {
     "name": "stdout",
     "output_type": "stream",
     "text": [
      "[[50, 0.3, 0.1], [150, 0.3, 0.05], [100, 0.9, 0.05], [150, 0.7, 0.05], [200, 0.3, 0.1], [150, 0.5, 0.2], [50, 0.5, 0.2], [150, 0.5, 0.05], [100, 0.9, 0.05], [100, 0.9, 0.2], [50, 0.5, 0.2], [100, 0.9, 0.2], [200, 0.7, 0.1], [200, 0.7, 0.05], [200, 0.7, 0.1], [50, 0.3, 0.1]]\n"
     ]
    },
    {
     "data": {
      "text/plain": [
       "160.0"
      ]
     },
     "execution_count": 69,
     "metadata": {},
     "output_type": "execute_result"
    }
   ],
   "source": [
    "Q = path_js1 # discretised solution space\n",
    "T_max = 1.0    # fixed runtime for every ga run\n",
    "N_run = 10      # how many times an experiment is repeated\n",
    "\n",
    "# experiment design\n",
    "pop_size =   [50, 100, 150, 200]\n",
    "cross_rate = [0.3, 0.5, 0.7, 0.9]\n",
    "mut_rate =   [0.05, 0.1, 0.2]\n",
    "\n",
    "A = np.loadtxt(\"design_16_L443.txt\").astype('int32')\n",
    "\n",
    "# map 0, 1, 2, (3) in matrix A on parameter data\n",
    "experiments = []\n",
    "for row in A:\n",
    "    experiments.append([pop_size[row[0]], cross_rate[row[1]], mut_rate[row[2]]])\n",
    "\n",
    "# random experiment order\n",
    "np.random.shuffle(experiments)\n",
    "print(experiments)\n",
    "\n",
    "# total runtime\n",
    "N_run * T_max * len(experiments)"
   ]
  },
  {
   "cell_type": "code",
   "execution_count": 70,
   "metadata": {},
   "outputs": [],
   "source": [
    "runs = []\n",
    "for run in range(N_run):\n",
    "    sols = []\n",
    "    for e in experiments:\n",
    "        sols.append(get_shortest_path_ga(Q, T_run=T_max, cross_rate=e[1], mut_rate=e[2], pop_size=e[0]))\n",
    "    runs.append(sols)"
   ]
  },
  {
   "cell_type": "code",
   "execution_count": 71,
   "metadata": {},
   "outputs": [
    {
     "name": "stdout",
     "output_type": "stream",
     "text": [
      "[[ 3.05586553  2.83436894  3.4778738   2.7966857   1.39283097  1.69263172\n",
      "   1.28766227  1.44332814  1.3546474   1.37913132  1.27418995  1.29612446\n",
      "   1.64595771  1.35389042  1.53001106  1.4536016 ]\n",
      " [ 1.32357454  1.40374207  1.54627848  1.86417902  1.36305714  1.62576306\n",
      "   1.28915143  1.62519705  1.37069082  1.55326891  1.28409123  1.28766227\n",
      "   1.54947805  1.29612446  1.58155155  3.69566536]\n",
      " [ 1.5160929   1.5686326   1.50470805  1.74537945  1.17419899  1.27972329\n",
      "   1.35629249  1.6881814   1.31473541  1.34888649  1.38514519  1.36056781\n",
      "   2.29914236  1.28766227  1.35754466  1.48637247]\n",
      " [ 1.42752051  1.44445086  1.4496367   1.35159576  1.28818583  1.34289682\n",
      "   1.2998836   1.50525045  1.68152189  1.4206655   1.37157345  1.11440814\n",
      "   1.31362617  1.28915143  1.47870028  1.47870028]\n",
      " [ 1.28487802  1.29612446  1.70564699  1.66572273  1.48106408  1.41934204\n",
      "   1.35886753  1.69252384  1.33865094  1.28818583  1.29612446  1.24416399\n",
      "   1.29255581  2.73978519  1.29612446  1.28766227]\n",
      " [ 2.78897381  1.82848239  1.91337001  1.39978838  1.51634264  1.45748711\n",
      "   1.47090638  3.72021198  3.0774138   1.48839188  1.36056781  1.26294005\n",
      "   1.29252338  2.50084043  1.5176878   1.70435381]\n",
      " [ 4.14172935  2.72652626  1.31490171  1.27418995  1.36171234  1.41667807\n",
      "   1.21043837  1.67963254  2.87993526  1.31730354  1.24416399  1.07946038\n",
      "   1.30393958  1.41576469  1.31730354  1.51598954]\n",
      " [ 2.90926671  1.39294755  1.81146824  1.74243069  1.56134737  1.3449347\n",
      "   1.41576469  2.68797326  3.8797977   2.87363148  1.48839188  1.28976583\n",
      "   1.31266749  1.64643717  1.62313867  1.4249928 ]\n",
      " [ 3.25524879  1.89821029  1.41863966  1.44135296  1.29612446  1.60975552\n",
      "   5.87906837  1.35665178  1.73536682  4.3025322   1.57327437  2.81490445\n",
      "   1.47989607  1.29066098  1.53984928  1.30523491]\n",
      " [ 1.27182889  1.46302652  1.36305714  1.8889761   1.54093242  1.28095269\n",
      "   2.43020892  2.46931839  1.28095269  1.27981186  1.32854581  1.28818583\n",
      "   1.35016406  1.78011549  1.42192757  1.29612446]]\n"
     ]
    }
   ],
   "source": [
    "results = np.array([[sol['length'] for sol in run] for run in runs])\n",
    "print(results)"
   ]
  },
  {
   "cell_type": "code",
   "execution_count": 72,
   "metadata": {},
   "outputs": [
    {
     "name": "stdout",
     "output_type": "stream",
     "text": [
      "(16,)\n"
     ]
    },
    {
     "data": {
      "image/png": "[encoded data removed]",
      "text/plain": [
       "<matplotlib.figure.Figure at 0x7fc0819ff940>"
      ]
     },
     "metadata": {},
     "output_type": "display_data"
    }
   ],
   "source": [
    "mean_results = np.mean(results, axis = 0)\n",
    "print(mean_results.shape)\n",
    "plt.plot(mean_results, 'o')\n",
    "plt.show()"
   ]
  },
  {
   "cell_type": "code",
   "execution_count": 73,
   "metadata": {},
   "outputs": [
    {
     "name": "stdout",
     "output_type": "stream",
     "text": [
      "[1.8056997, 1.742732, 1.7341311, 1.5020005]\n",
      "[1.7863996, 1.6735687, 1.581863, 1.742732]\n",
      "[1.8152467, 1.6620651, 1.5872895]\n"
     ]
    },
    {
     "data": {
      "image/png": "[encoded data removed]",
      "text/plain": [
       "<matplotlib.figure.Figure at 0x7fc081c86978>"
      ]
     },
     "metadata": {},
     "output_type": "display_data"
    }
   ],
   "source": [
    "def calc_effect(means, levels, exp):\n",
    "    effect = []\n",
    "    for level in levels:\n",
    "        temp = means[exp == level]\n",
    "        effect.append(np.mean(temp))\n",
    "    return effect\n",
    "p0 = np.array([e[0] for e in experiments])\n",
    "p1 = np.array([e[1] for e in experiments])\n",
    "p2 = np.array([e[2] for e in experiments])\n",
    "\n",
    "effect1 = calc_effect(mean_results, pop_size, p0)\n",
    "effect2 = calc_effect(mean_results, cross_rate, p1)\n",
    "effect3 = calc_effect(mean_results, mut_rate, p2)\n",
    "\n",
    "print(effect1)\n",
    "print(effect2)\n",
    "print(effect3)\n",
    "\n",
    "plt.figure(figsize=(10, 3))\n",
    "ax1 = plt.subplot(131)\n",
    "ax1.plot(pop_size, effect1, 'o-')\n",
    "ax1.set_title(\"Population size\")\n",
    "ax1.set_ylim([1, 2.5])\n",
    "ax2 = plt.subplot(132)\n",
    "ax2.plot(cross_rate, effect2, 'o-')\n",
    "ax2.set_title(\"Crossover rate\")\n",
    "ax2.set_ylim([1, 2.5])\n",
    "ax3 = plt.subplot(133)\n",
    "ax3.plot(mut_rate, effect3, 'o-')\n",
    "ax3.set_title(\"Mutation rate\")\n",
    "ax3.set_ylim([1, 2.5])\n",
    "plt.show()"
   ]
  },
  {
   "cell_type": "markdown",
   "metadata": {},
   "source": [
    "# Case 2"
   ]
  },
  {
   "cell_type": "code",
   "execution_count": 2,
   "metadata": {
    "collapsed": true
   },
   "outputs": [],
   "source": [
    "from planning_cases import robot2, path2, scene2"
   ]
  },
  {
   "cell_type": "code",
   "execution_count": 5,
   "metadata": {},
   "outputs": [
    {
     "name": "stdout",
     "output_type": "stream",
     "text": [
      "1200\n",
      "960000\n"
     ]
    }
   ],
   "source": [
    "robot2.ik_samples = [10, 10]\n",
    "N_trajectory = path2[0].p[0].s * path2[0].p[2].s * len(path2)\n",
    "print(N_trajectory)\n",
    "\n",
    "print(N_trajectory * robot2.ik_samples[0] * robot2.ik_samples[1] * 8)"
   ]
  },
  {
   "cell_type": "code",
   "execution_count": 17,
   "metadata": {},
   "outputs": [
    {
     "name": "stdout",
     "output_type": "stream",
     "text": [
      "Standard function took 95.39s\n"
     ]
    }
   ],
   "source": [
    "start = time.time()\n",
    "path_js2 = cart_to_joint(robot2, path2, check_collision=True, scene=scene2)\n",
    "end = time.time()\n",
    "print(\"Standard function took {:.2f}s\".format(end - start))"
   ]
  },
  {
   "cell_type": "code",
   "execution_count": 25,
   "metadata": {},
   "outputs": [
    {
     "name": "stdout",
     "output_type": "stream",
     "text": [
      "Parallel took 29.78s\n"
     ]
    }
   ],
   "source": [
    "def check_pose(pose):\n",
    "    res = []\n",
    "    sol = robot2.ik(pose)\n",
    "    if sol['success']:\n",
    "        for qsol in sol['q']:\n",
    "            if not robot2.check_collision(qsol, scene2):\n",
    "                res.append(qsol)\n",
    "    return res\n",
    "\n",
    "def check_traj_pt(poses):\n",
    "    res = []\n",
    "    for pi in poses:\n",
    "        res.append(np.array(check_pose(pi)))\n",
    "    return res\n",
    "\n",
    "start = time.time()\n",
    "tps = [discretise(tp) for tp in path2]\n",
    "with Pool() as pool:\n",
    "    result = pool.map(check_traj_pt, tps)\n",
    "end = time.time()\n",
    "print(\"Parallel took {:.2f}s\".format(end - start))"
   ]
  },
  {
   "cell_type": "code",
   "execution_count": null,
   "metadata": {
    "collapsed": true
   },
   "outputs": [],
   "source": []
  },
  {
   "cell_type": "code",
   "execution_count": 21,
   "metadata": {},
   "outputs": [
    {
     "ename": "ValueError",
     "evalue": "operands could not be broadcast together with shapes (0,) (61,5) ",
     "output_type": "error",
     "traceback": [
      "\u001b[0;31m---------------------------------------------------------------------------\u001b[0m",
      "\u001b[0;31mValueError\u001b[0m                                Traceback (most recent call last)",
      "\u001b[0;32m<ipython-input-21-292f7c0472bf>\u001b[0m in \u001b[0;36m<module>\u001b[0;34m()\u001b[0m\n\u001b[0;32m----> 1\u001b[0;31m \u001b[0msol2\u001b[0m \u001b[0;34m=\u001b[0m \u001b[0mget_shortest_path_ga\u001b[0m\u001b[0;34m(\u001b[0m\u001b[0mpath_js2\u001b[0m\u001b[0;34m,\u001b[0m \u001b[0mT_run\u001b[0m\u001b[0;34m=\u001b[0m\u001b[0;36m5\u001b[0m\u001b[0;34m)\u001b[0m\u001b[0;34m\u001b[0m\u001b[0m\n\u001b[0m\u001b[1;32m      2\u001b[0m \u001b[0mprint\u001b[0m\u001b[0;34m(\u001b[0m\u001b[0msol2\u001b[0m\u001b[0;34m[\u001b[0m\u001b[0;34m'success'\u001b[0m\u001b[0;34m]\u001b[0m\u001b[0;34m)\u001b[0m\u001b[0;34m\u001b[0m\u001b[0m\n",
      "\u001b[0;32m~/Documents/gitlab/planar_python_robotics/ppr/ga.py\u001b[0m in \u001b[0;36mget_shortest_path_ga\u001b[0;34m(Q, *arg, **kwarg)\u001b[0m\n\u001b[1;32m     19\u001b[0m \u001b[0;34m\u001b[0m\u001b[0m\n\u001b[1;32m     20\u001b[0m     \u001b[0;31m# run ga algorithm\u001b[0m\u001b[0;34m\u001b[0m\u001b[0;34m\u001b[0m\u001b[0m\n\u001b[0;32m---> 21\u001b[0;31m     \u001b[0mf_opt\u001b[0m\u001b[0;34m,\u001b[0m \u001b[0mpath_index\u001b[0m\u001b[0;34m,\u001b[0m \u001b[0mfvec\u001b[0m \u001b[0;34m=\u001b[0m \u001b[0msolver\u001b[0m\u001b[0;34m.\u001b[0m\u001b[0mrun\u001b[0m\u001b[0;34m(\u001b[0m\u001b[0;34m)\u001b[0m\u001b[0;34m\u001b[0m\u001b[0m\n\u001b[0m\u001b[1;32m     22\u001b[0m     \u001b[0mpath\u001b[0m \u001b[0;34m=\u001b[0m \u001b[0;34m[\u001b[0m\u001b[0mQ\u001b[0m\u001b[0;34m[\u001b[0m\u001b[0mi\u001b[0m\u001b[0;34m]\u001b[0m\u001b[0;34m[\u001b[0m\u001b[0mpath_index\u001b[0m\u001b[0;34m[\u001b[0m\u001b[0mi\u001b[0m\u001b[0;34m]\u001b[0m\u001b[0;34m,\u001b[0m \u001b[0;34m:\u001b[0m\u001b[0;34m]\u001b[0m \u001b[0;32mfor\u001b[0m \u001b[0mi\u001b[0m \u001b[0;32min\u001b[0m \u001b[0mrange\u001b[0m\u001b[0;34m(\u001b[0m\u001b[0msolver\u001b[0m\u001b[0;34m.\u001b[0m\u001b[0mn_path\u001b[0m\u001b[0;34m)\u001b[0m\u001b[0;34m]\u001b[0m\u001b[0;34m\u001b[0m\u001b[0m\n\u001b[1;32m     23\u001b[0m     \u001b[0;32mreturn\u001b[0m \u001b[0;34m{\u001b[0m\u001b[0;34m'success'\u001b[0m\u001b[0;34m:\u001b[0m \u001b[0;32mTrue\u001b[0m\u001b[0;34m,\u001b[0m \u001b[0;34m'path'\u001b[0m\u001b[0;34m:\u001b[0m \u001b[0mpath\u001b[0m\u001b[0;34m,\u001b[0m \u001b[0;34m'length'\u001b[0m\u001b[0;34m:\u001b[0m \u001b[0;34m-\u001b[0m\u001b[0mf_opt\u001b[0m\u001b[0;34m}\u001b[0m\u001b[0;34m\u001b[0m\u001b[0m\n",
      "\u001b[0;32m~/Documents/gitlab/planar_python_robotics/ppr/ga.py\u001b[0m in \u001b[0;36mrun\u001b[0;34m(self)\u001b[0m\n\u001b[1;32m     62\u001b[0m             \u001b[0;32mreturn\u001b[0m \u001b[0mself\u001b[0m\u001b[0;34m.\u001b[0m\u001b[0mrun_gen_limited\u001b[0m\u001b[0;34m(\u001b[0m\u001b[0;34m)\u001b[0m\u001b[0;34m\u001b[0m\u001b[0m\n\u001b[1;32m     63\u001b[0m         \u001b[0;32melse\u001b[0m\u001b[0;34m:\u001b[0m\u001b[0;34m\u001b[0m\u001b[0m\n\u001b[0;32m---> 64\u001b[0;31m             \u001b[0;32mreturn\u001b[0m \u001b[0mself\u001b[0m\u001b[0;34m.\u001b[0m\u001b[0mrun_time_limited\u001b[0m\u001b[0;34m(\u001b[0m\u001b[0;34m)\u001b[0m\u001b[0;34m\u001b[0m\u001b[0m\n\u001b[0m\u001b[1;32m     65\u001b[0m \u001b[0;34m\u001b[0m\u001b[0m\n\u001b[1;32m     66\u001b[0m     \u001b[0;32mdef\u001b[0m \u001b[0mrun_gen_limited\u001b[0m\u001b[0;34m(\u001b[0m\u001b[0mself\u001b[0m\u001b[0;34m)\u001b[0m\u001b[0;34m:\u001b[0m\u001b[0;34m\u001b[0m\u001b[0m\n",
      "\u001b[0;32m~/Documents/gitlab/planar_python_robotics/ppr/ga.py\u001b[0m in \u001b[0;36mrun_time_limited\u001b[0;34m(self)\u001b[0m\n\u001b[1;32m     88\u001b[0m         \u001b[0mstart\u001b[0m \u001b[0;34m=\u001b[0m \u001b[0mtime\u001b[0m\u001b[0;34m.\u001b[0m\u001b[0mtime\u001b[0m\u001b[0;34m(\u001b[0m\u001b[0;34m)\u001b[0m\u001b[0;34m\u001b[0m\u001b[0m\n\u001b[1;32m     89\u001b[0m         \u001b[0;32mwhile\u001b[0m\u001b[0;34m(\u001b[0m\u001b[0mtime\u001b[0m\u001b[0;34m.\u001b[0m\u001b[0mtime\u001b[0m\u001b[0;34m(\u001b[0m\u001b[0;34m)\u001b[0m \u001b[0;34m-\u001b[0m \u001b[0mstart\u001b[0m \u001b[0;34m<\u001b[0m \u001b[0mself\u001b[0m\u001b[0;34m.\u001b[0m\u001b[0mT\u001b[0m\u001b[0;34m)\u001b[0m\u001b[0;34m:\u001b[0m\u001b[0;34m\u001b[0m\u001b[0m\n\u001b[0;32m---> 90\u001b[0;31m             \u001b[0mpop\u001b[0m \u001b[0;34m=\u001b[0m \u001b[0mself\u001b[0m\u001b[0;34m.\u001b[0m\u001b[0msort_population\u001b[0m\u001b[0;34m(\u001b[0m\u001b[0mpop\u001b[0m\u001b[0;34m)\u001b[0m\u001b[0;34m\u001b[0m\u001b[0m\n\u001b[0m\u001b[1;32m     91\u001b[0m \u001b[0;34m\u001b[0m\u001b[0m\n\u001b[1;32m     92\u001b[0m             \u001b[0mf_cur\u001b[0m \u001b[0;34m=\u001b[0m \u001b[0mself\u001b[0m\u001b[0;34m.\u001b[0m\u001b[0mfitness\u001b[0m\u001b[0;34m(\u001b[0m\u001b[0mpop\u001b[0m\u001b[0;34m[\u001b[0m\u001b[0;36m0\u001b[0m\u001b[0;34m]\u001b[0m\u001b[0;34m)\u001b[0m\u001b[0;34m\u001b[0m\u001b[0m\n",
      "\u001b[0;32m~/Documents/gitlab/planar_python_robotics/ppr/ga.py\u001b[0m in \u001b[0;36msort_population\u001b[0;34m(self, pop)\u001b[0m\n\u001b[1;32m    194\u001b[0m         \"\"\" Sort the population from highest fitness to lowest fitness.\n\u001b[1;32m    195\u001b[0m         \"\"\"\n\u001b[0;32m--> 196\u001b[0;31m         \u001b[0mfit\u001b[0m \u001b[0;34m=\u001b[0m \u001b[0;34m[\u001b[0m\u001b[0mself\u001b[0m\u001b[0;34m.\u001b[0m\u001b[0mfitness\u001b[0m\u001b[0;34m(\u001b[0m\u001b[0mci\u001b[0m\u001b[0;34m)\u001b[0m \u001b[0;32mfor\u001b[0m \u001b[0mci\u001b[0m \u001b[0;32min\u001b[0m \u001b[0mpop\u001b[0m\u001b[0;34m]\u001b[0m\u001b[0;34m\u001b[0m\u001b[0m\n\u001b[0m\u001b[1;32m    197\u001b[0m         \u001b[0;31m# change sign because argsort default to sort from small to big\u001b[0m\u001b[0;34m\u001b[0m\u001b[0;34m\u001b[0m\u001b[0m\n\u001b[1;32m    198\u001b[0m         \u001b[0;31m# and we want the biggest fitness at the first.\u001b[0m\u001b[0;34m\u001b[0m\u001b[0;34m\u001b[0m\u001b[0m\n",
      "\u001b[0;32m~/Documents/gitlab/planar_python_robotics/ppr/ga.py\u001b[0m in \u001b[0;36m<listcomp>\u001b[0;34m(.0)\u001b[0m\n\u001b[1;32m    194\u001b[0m         \"\"\" Sort the population from highest fitness to lowest fitness.\n\u001b[1;32m    195\u001b[0m         \"\"\"\n\u001b[0;32m--> 196\u001b[0;31m         \u001b[0mfit\u001b[0m \u001b[0;34m=\u001b[0m \u001b[0;34m[\u001b[0m\u001b[0mself\u001b[0m\u001b[0;34m.\u001b[0m\u001b[0mfitness\u001b[0m\u001b[0;34m(\u001b[0m\u001b[0mci\u001b[0m\u001b[0;34m)\u001b[0m \u001b[0;32mfor\u001b[0m \u001b[0mci\u001b[0m \u001b[0;32min\u001b[0m \u001b[0mpop\u001b[0m\u001b[0;34m]\u001b[0m\u001b[0;34m\u001b[0m\u001b[0m\n\u001b[0m\u001b[1;32m    197\u001b[0m         \u001b[0;31m# change sign because argsort default to sort from small to big\u001b[0m\u001b[0;34m\u001b[0m\u001b[0;34m\u001b[0m\u001b[0m\n\u001b[1;32m    198\u001b[0m         \u001b[0;31m# and we want the biggest fitness at the first.\u001b[0m\u001b[0;34m\u001b[0m\u001b[0;34m\u001b[0m\u001b[0m\n",
      "\u001b[0;32m~/Documents/gitlab/planar_python_robotics/ppr/ga.py\u001b[0m in \u001b[0;36mfitness\u001b[0;34m(self, c)\u001b[0m\n\u001b[1;32m    130\u001b[0m         \"\"\"\n\u001b[1;32m    131\u001b[0m         \u001b[0mpath\u001b[0m \u001b[0;34m=\u001b[0m \u001b[0mself\u001b[0m\u001b[0;34m.\u001b[0m\u001b[0mget_path\u001b[0m\u001b[0;34m(\u001b[0m\u001b[0mc\u001b[0m\u001b[0;34m)\u001b[0m\u001b[0;34m\u001b[0m\u001b[0m\n\u001b[0;32m--> 132\u001b[0;31m         \u001b[0mdp\u001b[0m   \u001b[0;34m=\u001b[0m \u001b[0mnp\u001b[0m\u001b[0;34m.\u001b[0m\u001b[0mdiff\u001b[0m\u001b[0;34m(\u001b[0m\u001b[0mpath\u001b[0m\u001b[0;34m,\u001b[0m \u001b[0maxis\u001b[0m\u001b[0;34m=\u001b[0m\u001b[0;36m0\u001b[0m\u001b[0;34m)\u001b[0m\u001b[0;34m\u001b[0m\u001b[0m\n\u001b[0m\u001b[1;32m    133\u001b[0m         \u001b[0;32mreturn\u001b[0m \u001b[0;34m-\u001b[0m\u001b[0mnp\u001b[0m\u001b[0;34m.\u001b[0m\u001b[0msum\u001b[0m\u001b[0;34m(\u001b[0m\u001b[0mnp\u001b[0m\u001b[0;34m.\u001b[0m\u001b[0mabs\u001b[0m\u001b[0;34m(\u001b[0m\u001b[0mdp\u001b[0m\u001b[0;34m)\u001b[0m\u001b[0;34m)\u001b[0m\u001b[0;34m\u001b[0m\u001b[0m\n\u001b[1;32m    134\u001b[0m \u001b[0;34m\u001b[0m\u001b[0m\n",
      "\u001b[0;32m~/anaconda3/lib/python3.6/site-packages/numpy/lib/function_base.py\u001b[0m in \u001b[0;36mdiff\u001b[0;34m(a, n, axis)\u001b[0m\n\u001b[1;32m   1766\u001b[0m         \u001b[0;32mreturn\u001b[0m \u001b[0mdiff\u001b[0m\u001b[0;34m(\u001b[0m\u001b[0ma\u001b[0m\u001b[0;34m[\u001b[0m\u001b[0mslice1\u001b[0m\u001b[0;34m]\u001b[0m\u001b[0;34m-\u001b[0m\u001b[0ma\u001b[0m\u001b[0;34m[\u001b[0m\u001b[0mslice2\u001b[0m\u001b[0;34m]\u001b[0m\u001b[0;34m,\u001b[0m \u001b[0mn\u001b[0m\u001b[0;34m-\u001b[0m\u001b[0;36m1\u001b[0m\u001b[0;34m,\u001b[0m \u001b[0maxis\u001b[0m\u001b[0;34m=\u001b[0m\u001b[0maxis\u001b[0m\u001b[0;34m)\u001b[0m\u001b[0;34m\u001b[0m\u001b[0m\n\u001b[1;32m   1767\u001b[0m     \u001b[0;32melse\u001b[0m\u001b[0;34m:\u001b[0m\u001b[0;34m\u001b[0m\u001b[0m\n\u001b[0;32m-> 1768\u001b[0;31m         \u001b[0;32mreturn\u001b[0m \u001b[0ma\u001b[0m\u001b[0;34m[\u001b[0m\u001b[0mslice1\u001b[0m\u001b[0;34m]\u001b[0m\u001b[0;34m-\u001b[0m\u001b[0ma\u001b[0m\u001b[0;34m[\u001b[0m\u001b[0mslice2\u001b[0m\u001b[0;34m]\u001b[0m\u001b[0;34m\u001b[0m\u001b[0m\n\u001b[0m\u001b[1;32m   1769\u001b[0m \u001b[0;34m\u001b[0m\u001b[0m\n\u001b[1;32m   1770\u001b[0m \u001b[0;34m\u001b[0m\u001b[0m\n",
      "\u001b[0;31mValueError\u001b[0m: operands could not be broadcast together with shapes (0,) (61,5) "
     ]
    }
   ],
   "source": [
    "sol2 = get_shortest_path_ga(path_js2, T_run=5)\n",
    "print(sol2['success'])"
   ]
  },
  {
   "cell_type": "code",
   "execution_count": 67,
   "metadata": {},
   "outputs": [
    {
     "data": {
      "image/png": "[encoded data removed]",
      "text/plain": [
       "<matplotlib.figure.Figure at 0x7f7ebc92dc88>"
      ]
     },
     "metadata": {},
     "output_type": "display_data"
    }
   ],
   "source": [
    "fig2, ax2 = plt.subplots()\n",
    "plt.title(\"The Robot\")\n",
    "ax2.axis('equal')\n",
    "robot2.plot_path(ax2, sol2['path'])\n",
    "for tp in path2: tp.plot(ax2)\n",
    "for r in scene2: r.plot(ax2, 'g')\n",
    "plt.show()"
   ]
  },
  {
   "cell_type": "markdown",
   "metadata": {},
   "source": [
    "## Memory analysis\n",
    "With a limit of 8GB of memory, 9 dimensions with 10 samples for every dimensions seems to be the limit. When there is only one trajectory point."
   ]
  },
  {
   "cell_type": "code",
   "execution_count": 53,
   "metadata": {},
   "outputs": [
    {
     "data": {
      "image/png": "[encoded data removed]",
      "text/plain": [
       "<matplotlib.figure.Figure at 0x7f7ebc751a20>"
      ]
     },
     "metadata": {},
     "output_type": "display_data"
    }
   ],
   "source": [
    "dims = range(1, 11)\n",
    "samples = [3, 5, 8, 10]\n",
    "results = []\n",
    "for s in samples:\n",
    "    memory_usage = np.array([s**d * 8 for d in dims])\n",
    "    results.append(memory_usage)\n",
    "\n",
    "plt.semilogy(dims, results[0],\n",
    "         dims, results[1],\n",
    "         dims, results[2],\n",
    "         dims, results[3],\n",
    "         dims, [8e9]*len(dims))\n",
    "plt.xlabel(\"Sampled dimensions\")\n",
    "plt.ylabel(\"Memory usage in MegaByte\")\n",
    "plt.legend(samples)\n",
    "plt.show()"
   ]
  },
  {
   "cell_type": "markdown",
   "metadata": {
    "collapsed": true
   },
   "source": [
    "## design of experiments"
   ]
  },
  {
   "cell_type": "code",
   "execution_count": 4,
   "metadata": {
    "collapsed": true
   },
   "outputs": [],
   "source": [
    "import numpy as np"
   ]
  },
  {
   "cell_type": "code",
   "execution_count": 2,
   "metadata": {},
   "outputs": [
    {
     "data": {
      "text/plain": [
       "192"
      ]
     },
     "execution_count": 2,
     "metadata": {},
     "output_type": "execute_result"
    }
   ],
   "source": [
    "full_factorial = 4 * 4 * 4 * 3\n",
    "full_factorial"
   ]
  },
  {
   "cell_type": "code",
   "execution_count": 8,
   "metadata": {},
   "outputs": [
    {
     "name": "stdout",
     "output_type": "stream",
     "text": [
      "[[ 0.  1.  0.  1.]\n",
      " [ 3.  2.  1.  0.]\n",
      " [ 1.  2.  1.  0.]\n",
      " [ 2.  3.  3.  1.]\n",
      " [ 1.  0.  2.  1.]\n",
      " [ 1.  0.  0.  2.]\n",
      " [ 2.  0.  3.  0.]\n",
      " [ 1.  3.  3.  0.]\n",
      " [ 2.  2.  1.  0.]\n",
      " [ 0.  1.  0.  2.]\n",
      " [ 2.  2.  1.  2.]\n",
      " [ 3.  1.  2.  1.]\n",
      " [ 3.  1.  2.  2.]\n",
      " [ 0.  0.  3.  0.]\n",
      " [ 0.  3.  2.  1.]\n",
      " [ 3.  3.  0.  2.]]\n"
     ]
    }
   ],
   "source": [
    "A = np.loadtxt(\"paretoarrays.txt\")\n",
    "print(A)"
   ]
  },
  {
   "cell_type": "code",
   "execution_count": 13,
   "metadata": {},
   "outputs": [
    {
     "data": {
      "text/plain": [
       "array([[ 0.,  1.],\n",
       "       [ 1.,  2.],\n",
       "       [ 3.,  2.],\n",
       "       [ 1.,  3.],\n",
       "       [ 0.,  0.],\n",
       "       [ 3.,  3.],\n",
       "       [ 3.,  1.],\n",
       "       [ 2.,  0.],\n",
       "       [ 2.,  3.],\n",
       "       [ 2.,  2.],\n",
       "       [ 1.,  0.],\n",
       "       [ 0.,  3.]])"
      ]
     },
     "execution_count": 13,
     "metadata": {},
     "output_type": "execute_result"
    }
   ],
   "source": [
    "np.vstack({tuple(row) for row in A[:, 0:2]})"
   ]
  },
  {
   "cell_type": "code",
   "execution_count": 17,
   "metadata": {},
   "outputs": [
    {
     "name": "stdout",
     "output_type": "stream",
     "text": [
      "(12, 2)\n",
      "(12, 2)\n",
      "(9, 2)\n",
      "(10, 2)\n"
     ]
    }
   ],
   "source": [
    "print(np.vstack({tuple(row) for row in A[:, [0, 2]]}).shape)\n",
    "print(np.vstack({tuple(row) for row in A[:, [0, 3]]}).shape)\n",
    "print(np.vstack({tuple(row) for row in A[:, [1, 2]]}).shape)\n",
    "print(np.vstack({tuple(row) for row in A[:, [1, 3]]}).shape)"
   ]
  },
  {
   "cell_type": "code",
   "execution_count": null,
   "metadata": {
    "collapsed": true
   },
   "outputs": [],
   "source": []
  }
 ],
 "metadata": {
  "kernelspec": {
   "display_name": "Python 3",
   "language": "python",
   "name": "python3"
  },
  "language_info": {
   "codemirror_mode": {
    "name": "ipython",
    "version": 3
   },
   "file_extension": ".py",
   "mimetype": "text/x-python",
   "name": "python",
   "nbconvert_exporter": "python",
   "pygments_lexer": "ipython3",
   "version": "3.6.3"
  }
 },
 "nbformat": 4,
 "nbformat_minor": 2
}
