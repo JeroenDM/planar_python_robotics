{
 "cells": [
  {
   "cell_type": "code",
   "execution_count": 2,
   "metadata": {
    "collapsed": true
   },
   "outputs": [],
   "source": [
    "import numpy as np\n",
    "import matplotlib.pyplot as plt\n",
    "from scipy.optimize import fmin_slsqp"
   ]
  },
  {
   "cell_type": "code",
   "execution_count": 4,
   "metadata": {},
   "outputs": [],
   "source": [
    "from ppr.geometry import Rectangle"
   ]
  },
  {
   "cell_type": "code",
   "execution_count": 22,
   "metadata": {},
   "outputs": [],
   "source": [
    "rec1 = Rectangle(1, 2, 3, 2, 0)\n",
    "rec2 = Rectangle(2, 5, 2, 4, np.pi/4)"
   ]
  },
  {
   "cell_type": "code",
   "execution_count": 23,
   "metadata": {},
   "outputs": [
    {
     "data": {
      "image/png": "[encoded data removed]",
      "text/plain": [
       "<matplotlib.figure.Figure at 0x7ff7ec6f26d8>"
      ]
     },
     "metadata": {},
     "output_type": "display_data"
    }
   ],
   "source": [
    "fig, ax = plt.subplots()\n",
    "rec1.plot(ax)\n",
    "rec2.plot(ax)\n",
    "ax.axis('equal')\n",
    "plt.show()"
   ]
  },
  {
   "cell_type": "markdown",
   "metadata": {},
   "source": [
    "# General matrix formulation for polyhedra"
   ]
  },
  {
   "cell_type": "code",
   "execution_count": 48,
   "metadata": {
    "collapsed": true
   },
   "outputs": [],
   "source": [
    "# euclidean distance between two points\n",
    "def dist(x, y):\n",
    "    return np.sqrt(np.sum((x-y)**2))\n",
    "\n",
    "# point in polyhedra if Ax <= b\n",
    "def pol_eq(x, A, b):\n",
    "    return A.dot(x) - b\n",
    "\n",
    "def is_in_pol(x, A, b):\n",
    "    return np.all(pol_eq(x, A, b) < 0)"
   ]
  },
  {
   "cell_type": "code",
   "execution_count": 55,
   "metadata": {},
   "outputs": [],
   "source": [
    "# general representation of rectangles\n",
    "A1, b1 = rec1.get_matrix_form()\n",
    "A2, b2 = rec2.get_matrix_form()"
   ]
  },
  {
   "cell_type": "code",
   "execution_count": 54,
   "metadata": {},
   "outputs": [
    {
     "data": {
      "image/png": "[encoded data removed]",
      "text/plain": [
       "<matplotlib.figure.Figure at 0x7ff7ec493828>"
      ]
     },
     "metadata": {},
     "output_type": "display_data"
    }
   ],
   "source": [
    "# check some points\n",
    "some_points = np.array([[0, 0], [2, 3], [2, 7], [6, 7]])\n",
    "\n",
    "fig, ax = plt.subplots()\n",
    "rec1.plot(ax)\n",
    "rec2.plot(ax)\n",
    "ax.axis('equal')\n",
    "for p in some_points:\n",
    "    if is_in_pol(p, A1, b1) or is_in_pol(p, A2, b2):\n",
    "        ax.plot(p[0], p[1], 'g*')\n",
    "    else:\n",
    "        ax.plot(p[0], p[1], 'r*')\n",
    "plt.show()"
   ]
  },
  {
   "cell_type": "markdown",
   "metadata": {},
   "source": [
    "# Minumum distance problem formulation\n",
    "\n",
    "Arrange two point x and y in one vector var = [x, y]"
   ]
  },
  {
   "cell_type": "code",
   "execution_count": 68,
   "metadata": {},
   "outputs": [
    {
     "name": "stdout",
     "output_type": "stream",
     "text": [
      "Optimization terminated successfully.    (Exit mode 0)\n",
      "            Current function value: 1.0000003458993423\n",
      "            Iterations: 6\n",
      "            Function evaluations: 36\n",
      "            Gradient evaluations: 6\n"
     ]
    }
   ],
   "source": [
    "def obj(var):\n",
    "    return dist(var[0:2], var[2:4])\n",
    "\n",
    "def inequality_constraints(var):\n",
    "    ie1 = pol_eq(var[0:2], A1, b1)\n",
    "    ie2 = pol_eq(var[2:4], A2, b2)\n",
    "    \n",
    "    # fmin_slsqp wants g(x) >= 0 constraints\n",
    "    return -np.hstack((ie1, ie2))\n",
    "\n",
    "var_init = np.random.rand(4)\n",
    "\n",
    "sol = fmin_slsqp(obj, var_init, f_ieqcons=inequality_constraints)"
   ]
  },
  {
   "cell_type": "code",
   "execution_count": 69,
   "metadata": {},
   "outputs": [
    {
     "data": {
      "image/png": "[encoded data removed]",
      "text/plain": [
       "<matplotlib.figure.Figure at 0x7ff7ec65fd68>"
      ]
     },
     "metadata": {},
     "output_type": "display_data"
    }
   ],
   "source": [
    "fig, ax = plt.subplots()\n",
    "rec1.plot(ax)\n",
    "rec2.plot(ax)\n",
    "ax.plot(var_init[[0, 2]], var_init[[1, 3]], 'b-o')\n",
    "ax.plot(sol[[0, 2]], sol[[1, 3]], 'g-*')\n",
    "ax.axis('equal')\n",
    "plt.show()"
   ]
  },
  {
   "cell_type": "code",
   "execution_count": null,
   "metadata": {
    "collapsed": true
   },
   "outputs": [],
   "source": []
  }
 ],
 "metadata": {
  "kernelspec": {
   "display_name": "Python 3",
   "language": "python",
   "name": "python3"
  },
  "language_info": {
   "codemirror_mode": {
    "name": "ipython",
    "version": 3
   },
   "file_extension": ".py",
   "mimetype": "text/x-python",
   "name": "python",
   "nbconvert_exporter": "python",
   "pygments_lexer": "ipython3",
   "version": "3.6.3"
  }
 },
 "nbformat": 4,
 "nbformat_minor": 2
}
