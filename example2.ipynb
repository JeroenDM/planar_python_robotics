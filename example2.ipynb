{
 "cells": [
  {
   "cell_type": "code",
   "execution_count": 3,
   "metadata": {
    "collapsed": true
   },
   "outputs": [],
   "source": [
    "import numpy as np\n",
    "import matplotlib.pyplot as plt\n",
    "from ppr.robot import Robot, Robot_3R\n",
    "from ppr.path import TrajectoryPt, TolerancedNumber\n",
    "from ppr.geometry import Rectangle"
   ]
  },
  {
   "cell_type": "markdown",
   "metadata": {},
   "source": [
    "### custom robot definition\n",
    "Redefine the 2P3R robot in order to play with the inverse kinematics"
   ]
  },
  {
   "cell_type": "code",
   "execution_count": 4,
   "metadata": {},
   "outputs": [],
   "source": [
    "class Robot_2P3R(Robot):\n",
    "    \"\"\" A 3R robot mounted on a 2P cartesian robot\n",
    "    \n",
    "    This is the first robot with kinematic redundancy!\n",
    "    \n",
    "    Attributes\n",
    "    ----------\n",
    "    ik_sample : int\n",
    "            How many samples should be taken in the range of the first two\n",
    "            joints. Resulting in n_sample * n_sample times the normal number\n",
    "            of solutions for a 3R robot.\n",
    "    \"\"\"\n",
    "    def __init__(self, link_length):\n",
    "        \"\"\" Simplified constructor for this 2P3R robot\n",
    "        \n",
    "        Add a helper robot to self.sub_robot to reuse the inverse kinematics\n",
    "        implementation of the 3R robot.\n",
    "        \n",
    "        Parameters\n",
    "        ----------\n",
    "        link_length : list or np.array of floats\n",
    "            The lengths for the two links.\n",
    "        \"\"\"\n",
    "        if not (len(link_length) == 5):\n",
    "            raise ValueError(\"This robot has 5 links, not: \" + str(len(link_length)))\n",
    "        super().__init__(['p', 'p', 'r', 'r', 'r'],\n",
    "                         link_length,\n",
    "                         [np.pi / 2, -np.pi / 2, 0, 0, 0])\n",
    "        # create 3R robot for inverse kinematics\n",
    "        self.sub_robot = Robot_3R(link_length[2:])\n",
    "        self.ik_samples = 5\n",
    "\n",
    "    def ik(self, p):\n",
    "        \"\"\" Discretised / sampled inverse kinematics\n",
    "        \n",
    "        This robots has redundance (ndof = 5) compared to the task (3) and\n",
    "        therefore two joints are sampled in a range to return a sampled\n",
    "        subset of the infinite solutions that exists for the given pose.\n",
    "        \n",
    "        Parameters\n",
    "        ----------\n",
    "        p : list or np.ndarray of floats\n",
    "            End-effector pose (x, y, angle)\n",
    "        \n",
    "        Returns\n",
    "        -------\n",
    "        dict\n",
    "            A dictionary with a key 'success' reporting True if the pose is\n",
    "            reachable and a key 'q' reporting the different joint solutions\n",
    "            as a list of numpy arrays.\n",
    "            If 'success' is False, a key 'info' containts extra info.\n",
    "        \"\"\"\n",
    "        q1 = TolerancedNumber(0.5, 0.5, 1.0, samples=3)\n",
    "        q2 = TolerancedNumber(2.5, 2, 3, samples=self.ik_samples)\n",
    "        grid = np.meshgrid(q1.range, q2.range)\n",
    "        grid = [ grid[i].flatten() for i in range(2) ]\n",
    "        grid = np.array(grid).T\n",
    "        \n",
    "        q_sol = []\n",
    "        for qf in grid:\n",
    "            s = self.ik_fixed_joints(p, q_fixed=qf)\n",
    "            if s['success']:\n",
    "                for qi in s['q']:\n",
    "                    q_sol.append(qi)\n",
    "        if len(q_sol) > 0:\n",
    "            return {'success': True, 'q': q_sol}\n",
    "        else:\n",
    "            return {'success' : False, 'info': \"unreachable\"}\n",
    "    \n",
    "    def ik_fixed_joints(self, p, q_fixed = [0, 0]):\n",
    "        \"\"\" wrapper function to solve the ik for the last three joints.\n",
    "        \n",
    "        The joint solution of the 3R robot is extended with the joint values\n",
    "        for the fixed joints.\n",
    "        \n",
    "        Parameters\n",
    "        ----------\n",
    "        p : list or np.ndarray of floats\n",
    "            End-effector pose (x, y, angle) \n",
    "        dict\n",
    "            A dictionary with a key 'success' reporting True if the pose is\n",
    "            reachable and a key 'q' reporting the different joint solutions\n",
    "            as a list of numpy arrays.\n",
    "            If 'success' is False, a key 'info' containts extra info.\n",
    "        \"\"\"\n",
    "        q_base = [0, 0, 0]\n",
    "        q_base[0] = q_fixed[1]\n",
    "        q_base[1] = q_fixed[0]\n",
    "        self.sub_robot.base = q_base\n",
    "        sub_sol = self.sub_robot.ik(p)\n",
    "        if sub_sol['success']:\n",
    "            # add fixed joints to solution\n",
    "            q_sol = []\n",
    "            for qi in sub_sol['q']:\n",
    "                q_sol.append([*q_fixed, *qi])\n",
    "            sub_sol['q'] = q_sol\n",
    "        return sub_sol"
   ]
  },
  {
   "cell_type": "code",
   "execution_count": 5,
   "metadata": {
    "collapsed": true
   },
   "outputs": [],
   "source": [
    "# ROBOT\n",
    "robot1 = Robot_2P3R([1, 1, 2, 1.2, 1])\n",
    "\n",
    "# PATH\n",
    "dx    = TolerancedNumber(0.5, 0.3, 0.8, samples=4)\n",
    "dy    = np.linspace(2, 2.5, 5)\n",
    "angle = TolerancedNumber(0.0, -np.pi, np.pi, samples=20)\n",
    "path1 = [TrajectoryPt([dx, yi, angle]) for yi in dy]\n",
    "\n",
    "# COLLISION SCENE\n",
    "sc1 = [Rectangle(1, 1, 1, 1.5, 0),\n",
    "       Rectangle(3, 1, 1, 2.2, 0),\n",
    "       Rectangle(0, 3.2, 4, 0.5, 0),\n",
    "       Rectangle(0, 1, 0.2, 3.2, 0),\n",
    "       Rectangle(0.2, 1, 0.8, 0.5, 0)]"
   ]
  },
  {
   "cell_type": "code",
   "execution_count": 7,
   "metadata": {},
   "outputs": [
    {
     "data": {
      "image/png": "[encoded data removed]",
      "text/plain": [
       "<matplotlib.figure.Figure at 0x7fbfdc92bf98>"
      ]
     },
     "metadata": {},
     "output_type": "display_data"
    }
   ],
   "source": [
    "fig1, ax1 = plt.subplots()\n",
    "plt.title(\"The Robot\")\n",
    "ax1.axis('equal')\n",
    "robot1.plot(ax1, [0.5, 0.5, 0.5, 0.5, 0.5], 'k')\n",
    "for tp in path1: tp.plot(ax1)\n",
    "for r in sc1: r.plot(ax1, 'g')\n",
    "plt.show()"
   ]
  },
  {
   "cell_type": "code",
   "execution_count": 8,
   "metadata": {
    "collapsed": true
   },
   "outputs": [],
   "source": [
    "from ppr.path import cart_to_joint\n",
    "from ppr.path import get_shortest_path"
   ]
  },
  {
   "cell_type": "code",
   "execution_count": 9,
   "metadata": {
    "collapsed": true
   },
   "outputs": [],
   "source": [
    "path_js = cart_to_joint(robot1, path1, check_collision=True, scene=sc1)"
   ]
  },
  {
   "cell_type": "code",
   "execution_count": 10,
   "metadata": {},
   "outputs": [
    {
     "name": "stdout",
     "output_type": "stream",
     "text": [
      "[15, 25, 27, 42, 72]\n"
     ]
    }
   ],
   "source": [
    "print([len(qp) for qp in path_js])"
   ]
  },
  {
   "cell_type": "code",
   "execution_count": 11,
   "metadata": {},
   "outputs": [
    {
     "name": "stdout",
     "output_type": "stream",
     "text": [
      "converting type of Q\n",
      "[ 6 18  6 31 51]\n",
      "True\n"
     ]
    }
   ],
   "source": [
    "sol = get_shortest_path(path_js)\n",
    "print(sol['success'])"
   ]
  },
  {
   "cell_type": "code",
   "execution_count": 12,
   "metadata": {},
   "outputs": [
    {
     "data": {
      "image/png": "[encoded data removed]",
      "text/plain": [
       "<matplotlib.figure.Figure at 0x7fbfda871da0>"
      ]
     },
     "metadata": {},
     "output_type": "display_data"
    }
   ],
   "source": [
    "fig2, ax2 = plt.subplots()\n",
    "ax2.axis('equal')\n",
    "#robot1.plot_path_kinematics(ax2, path_js[2])\n",
    "robot1.plot_path(ax2, sol['path'])\n",
    "for r in sc1: r.plot(ax2, 'g')\n",
    "for tp in path1: tp.plot(ax2)\n",
    "plt.show()"
   ]
  },
  {
   "cell_type": "code",
   "execution_count": 24,
   "metadata": {
    "collapsed": true
   },
   "outputs": [],
   "source": [
    "from ppr.optim import get_optimal_trajectory"
   ]
  },
  {
   "cell_type": "code",
   "execution_count": 29,
   "metadata": {},
   "outputs": [
    {
     "name": "stdout",
     "output_type": "stream",
     "text": [
      "Iteration limit exceeded    (Exit mode 9)\n",
      "            Current function value: 0.19452932789741406\n",
      "            Iterations: 101\n",
      "            Function evaluations: 2898\n",
      "            Gradient evaluations: 101\n"
     ]
    }
   ],
   "source": [
    "q_init = sol['path']\n",
    "#q_init = np.zeros((len(path1), robot1.ndof))\n",
    "#q_init = np.random.rand(len(path1), robot1.ndof)\n",
    "q_opt, _, _ = get_optimal_trajectory(robot1, path1, q_init, check_collision=True, scene=sc1)"
   ]
  },
  {
   "cell_type": "code",
   "execution_count": 30,
   "metadata": {},
   "outputs": [
    {
     "data": {
      "image/png": "[encoded data removed]",
      "text/plain": [
       "<matplotlib.figure.Figure at 0x7fbfd5990748>"
      ]
     },
     "metadata": {},
     "output_type": "display_data"
    }
   ],
   "source": [
    "fig3, ax3 = plt.subplots()\n",
    "ax3.axis('equal')\n",
    "robot1.plot_path(ax3, q_opt)\n",
    "for r in sc1: r.plot(ax3, 'g')\n",
    "for tp in path1: tp.plot(ax3)\n",
    "plt.show()"
   ]
  },
  {
   "cell_type": "code",
   "execution_count": null,
   "metadata": {
    "collapsed": true
   },
   "outputs": [],
   "source": []
  }
 ],
 "metadata": {
  "kernelspec": {
   "display_name": "Python 3",
   "language": "python",
   "name": "python3"
  },
  "language_info": {
   "codemirror_mode": {
    "name": "ipython",
    "version": 3
   },
   "file_extension": ".py",
   "mimetype": "text/x-python",
   "name": "python",
   "nbconvert_exporter": "python",
   "pygments_lexer": "ipython3",
   "version": "3.6.3"
  }
 },
 "nbformat": 4,
 "nbformat_minor": 2
}
