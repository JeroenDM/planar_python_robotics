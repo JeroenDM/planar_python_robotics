{
 "cells": [
  {
   "cell_type": "code",
   "execution_count": 1,
   "metadata": {
    "collapsed": true
   },
   "outputs": [],
   "source": [
    "import numpy as np\n",
    "import matplotlib.pyplot as plt\n",
    "from ppr.robot import Robot_2P3R,Robot_3R\n",
    "from ppr.path import TrajectoryPt, TolerancedNumber\n",
    "from ppr.sampling import cart_to_joint, get_shortest_path\n",
    "\n",
    "#from ppr.geometry import Rectangle\n",
    "#from ppr.geometry_pure_python import Rectangle\n",
    "from ppr.geometry_pickalable_swig import Rectangle"
   ]
  },
  {
   "cell_type": "code",
   "execution_count": 2,
   "metadata": {
    "collapsed": true
   },
   "outputs": [],
   "source": [
    "# ROBOT\n",
    "robot1 = Robot_2P3R([1, 1, 2, 1.2, 1])\n",
    "robot1.set_joint_limits([(0.0, 1.0), (0.0, 3.0)])\n",
    "robot1.ik_samples = [3, 5]\n",
    "\n",
    "# PATH\n",
    "dx    = TolerancedNumber(0.5, 0.3, 0.8, samples=4)\n",
    "dy    = np.linspace(2, 2.5, 5)\n",
    "angle = TolerancedNumber(0.0, -np.pi, 0, samples=10)\n",
    "path1 = [TrajectoryPt([dx, yi, angle]) for yi in dy]\n",
    "\n",
    "# COLLISION SCENE\n",
    "sc1 = [Rectangle(1, 1, 1, 1.5, 0),\n",
    "       Rectangle(3, 1, 1, 2.2, 0),\n",
    "       Rectangle(0, 3.2, 4, 0.5, 0),\n",
    "       Rectangle(0, 1, 0.2, 3.2, 0),\n",
    "       Rectangle(0.2, 1, 0.8, 0.5, 0)]"
   ]
  },
  {
   "cell_type": "code",
   "execution_count": 3,
   "metadata": {
    "collapsed": true
   },
   "outputs": [],
   "source": [
    "from ppr.sampling import iterative_bfs"
   ]
  },
  {
   "cell_type": "code",
   "execution_count": 4,
   "metadata": {
    "scrolled": true
   },
   "outputs": [
    {
     "name": "stdout",
     "output_type": "stream",
     "text": [
      "converting type of Q\n",
      "[0 0 0 4 6]\n",
      "converting type of Q\n",
      "[ 3 11 44 61 17]\n",
      "converting type of Q\n",
      "[ 12 110  29 114 224]\n",
      "converting type of Q\n",
      "[ 17 231 363  60 255]\n",
      "converting type of Q\n",
      "[ 13 435 306 194 329]\n",
      "converting type of Q\n",
      "[293 533 533  89  89]\n",
      "converting type of Q\n",
      "[ 43 526 525  76 526]\n",
      "converting type of Q\n",
      "[ 57 531 532  80 230]\n",
      "converting type of Q\n",
      "[ 73 511 510  69 219]\n",
      "converting type of Q\n",
      "[ 72 512 510  72 539]\n"
     ]
    }
   ],
   "source": [
    "sol = iterative_bfs(robot1, path1, sc1, tol=1e-6, red=3, max_iter=10)"
   ]
  },
  {
   "cell_type": "code",
   "execution_count": 11,
   "metadata": {},
   "outputs": [
    {
     "name": "stdout",
     "output_type": "stream",
     "text": [
      "False\n"
     ]
    },
    {
     "data": {
      "image/png": "[encoded data removed]",
      "text/plain": [
       "<matplotlib.figure.Figure at 0x7fccad6550f0>"
      ]
     },
     "metadata": {},
     "output_type": "display_data"
    },
    {
     "data": {
      "image/png": "[encoded data removed]",
      "text/plain": [
       "<matplotlib.figure.Figure at 0x7fccad6440f0>"
      ]
     },
     "metadata": {},
     "output_type": "display_data"
    }
   ],
   "source": [
    "print(sol['success'])\n",
    "\n",
    "plt.plot(sol['length_all_iterations'], 'o-')\n",
    "plt.title(\"cost as function of iterations\")\n",
    "plt.show()\n",
    "\n",
    "fig2, ax2 = plt.subplots()\n",
    "ax2.axis('equal')\n",
    "#robot1.plot_path_kinematics(ax2, path_js[2])\n",
    "robot1.plot_path(ax2, sol['path'])\n",
    "for r in sc1: r.plot(ax2, 'g')\n",
    "for tp in path1: tp.plot(ax2)\n",
    "plt.show()"
   ]
  },
  {
   "cell_type": "markdown",
   "metadata": {
    "collapsed": true
   },
   "source": [
    "# compare with optimisation based approach"
   ]
  },
  {
   "cell_type": "code",
   "execution_count": 6,
   "metadata": {},
   "outputs": [],
   "source": [
    "# set mass, cg-positoin and mass moment of inertia for each link\n",
    "robot1.set_link_inertia([1, 1, 1, 0.5, 0.5],\n",
    "                        [0.5, 0.5, 0.25, 0.25, 0.15],\n",
    "                        [0.05, 0.05, 0.05, 0.05, 0.05])\n",
    "\n",
    "# use the sampling based solution as initial guess\n",
    "q_init = sol['path']"
   ]
  },
  {
   "cell_type": "code",
   "execution_count": 7,
   "metadata": {},
   "outputs": [
    {
     "name": "stdout",
     "output_type": "stream",
     "text": [
      "Iteration limit exceeded    (Exit mode 9)\n",
      "            Current function value: 0.21890598747674717\n",
      "            Iterations: 101\n",
      "            Function evaluations: 2899\n",
      "            Gradient evaluations: 100\n"
     ]
    }
   ],
   "source": [
    "from ppr.optim import get_optimal_trajectory\n",
    "\n",
    "q_opt, dq_opt, ddq_opt = get_optimal_trajectory(robot1, path1, q_init,\n",
    "                                               check_collision=True, scene=sc1)"
   ]
  },
  {
   "cell_type": "code",
   "execution_count": 8,
   "metadata": {},
   "outputs": [
    {
     "data": {
      "image/png": "[encoded data removed]",
      "text/plain": [
       "<matplotlib.figure.Figure at 0x7fccad634588>"
      ]
     },
     "metadata": {},
     "output_type": "display_data"
    }
   ],
   "source": [
    "fig4, ax4 = plt.subplots()\n",
    "plt.title(\"Optimized solution\")\n",
    "ax4.axis('equal')\n",
    "robot1.plot_path(ax4, q_opt)\n",
    "for tp in path1: tp.plot(ax4)\n",
    "for r in sc1: r.plot(ax4, 'g')\n",
    "plt.show()"
   ]
  },
  {
   "cell_type": "code",
   "execution_count": 9,
   "metadata": {},
   "outputs": [
    {
     "data": {
      "text/plain": [
       "0.21890598747674717"
      ]
     },
     "execution_count": 9,
     "metadata": {},
     "output_type": "execute_result"
    }
   ],
   "source": [
    "np.sum(np.abs(np.diff(q_opt, axis=0)))"
   ]
  },
  {
   "cell_type": "code",
   "execution_count": 10,
   "metadata": {},
   "outputs": [
    {
     "data": {
      "text/plain": [
       "0.27011966705322266"
      ]
     },
     "execution_count": 10,
     "metadata": {},
     "output_type": "execute_result"
    }
   ],
   "source": [
    "np.sum(np.abs(np.diff(sol['path'], axis=0)))"
   ]
  },
  {
   "cell_type": "code",
   "execution_count": null,
   "metadata": {
    "collapsed": true
   },
   "outputs": [],
   "source": []
  }
 ],
 "metadata": {
  "kernelspec": {
   "display_name": "Python 3",
   "language": "python",
   "name": "python3"
  },
  "language_info": {
   "codemirror_mode": {
    "name": "ipython",
    "version": 3
   },
   "file_extension": ".py",
   "mimetype": "text/x-python",
   "name": "python",
   "nbconvert_exporter": "python",
   "pygments_lexer": "ipython3",
   "version": "3.6.3"
  }
 },
 "nbformat": 4,
 "nbformat_minor": 2
}
